{
 "cells": [
  {
   "cell_type": "markdown",
   "metadata": {},
   "source": [
    "# Supervised Machine Learning: Linear & Categorical"
   ]
  },
  {
   "cell_type": "markdown",
   "metadata": {
    "id": "pt77rlohfbC5"
   },
   "source": [
    "## Part 1: Regression on California Test Scores"
   ]
  },
  {
   "cell_type": "code",
   "execution_count": 31,
   "metadata": {
    "id": "YPOpWWY2fdg9"
   },
   "outputs": [],
   "source": [
    "#Import all dependencies\n",
    "\n",
    "%matplotlib inline\n",
    "import pandas as pd\n",
    "import numpy as np\n",
    "import matplotlib.pyplot as plt\n",
    "import warnings\n",
    "import seaborn as sns\n",
    "\n",
    "from sklearn.model_selection import train_test_split, KFold,cross_val_score, RepeatedKFold, GridSearchCV\n",
    "from sklearn.neighbors import KNeighborsRegressor, KNeighborsClassifier\n",
    "from sklearn.linear_model import LinearRegression, Ridge, Lasso, LogisticRegression\n",
    "from sklearn.preprocessing import StandardScaler\n",
    "from sklearn.pipeline import make_pipeline"
   ]
  },
  {
   "cell_type": "code",
   "execution_count": 32,
   "metadata": {
    "colab": {
     "base_uri": "https://localhost:8080/",
     "height": 394
    },
    "id": "vRVCEb23fmgp",
    "outputId": "a8e31746-e880-403e-8428-fd4385b531a9"
   },
   "outputs": [
    {
     "data": {
      "text/html": [
       "<div>\n",
       "<style scoped>\n",
       "    .dataframe tbody tr th:only-of-type {\n",
       "        vertical-align: middle;\n",
       "    }\n",
       "\n",
       "    .dataframe tbody tr th {\n",
       "        vertical-align: top;\n",
       "    }\n",
       "\n",
       "    .dataframe thead th {\n",
       "        text-align: right;\n",
       "    }\n",
       "</style>\n",
       "<table border=\"1\" class=\"dataframe\">\n",
       "  <thead>\n",
       "    <tr style=\"text-align: right;\">\n",
       "      <th></th>\n",
       "      <th>Unnamed: 0</th>\n",
       "      <th>distcod</th>\n",
       "      <th>county</th>\n",
       "      <th>district</th>\n",
       "      <th>grspan</th>\n",
       "      <th>enrltot</th>\n",
       "      <th>teachers</th>\n",
       "      <th>calwpct</th>\n",
       "      <th>mealpct</th>\n",
       "      <th>computer</th>\n",
       "      <th>testscr</th>\n",
       "      <th>compstu</th>\n",
       "      <th>expnstu</th>\n",
       "      <th>str</th>\n",
       "      <th>avginc</th>\n",
       "      <th>elpct</th>\n",
       "      <th>readscr</th>\n",
       "      <th>mathscr</th>\n",
       "    </tr>\n",
       "  </thead>\n",
       "  <tbody>\n",
       "    <tr>\n",
       "      <th>0</th>\n",
       "      <td>1</td>\n",
       "      <td>75119</td>\n",
       "      <td>Alameda</td>\n",
       "      <td>Sunol Glen Unified</td>\n",
       "      <td>KK-08</td>\n",
       "      <td>195</td>\n",
       "      <td>10.900000</td>\n",
       "      <td>0.510200</td>\n",
       "      <td>2.040800</td>\n",
       "      <td>67</td>\n",
       "      <td>690.799988</td>\n",
       "      <td>0.343590</td>\n",
       "      <td>6384.911133</td>\n",
       "      <td>17.889910</td>\n",
       "      <td>22.690001</td>\n",
       "      <td>0.000000</td>\n",
       "      <td>691.599976</td>\n",
       "      <td>690.000000</td>\n",
       "    </tr>\n",
       "    <tr>\n",
       "      <th>1</th>\n",
       "      <td>2</td>\n",
       "      <td>61499</td>\n",
       "      <td>Butte</td>\n",
       "      <td>Manzanita Elementary</td>\n",
       "      <td>KK-08</td>\n",
       "      <td>240</td>\n",
       "      <td>11.150000</td>\n",
       "      <td>15.416700</td>\n",
       "      <td>47.916698</td>\n",
       "      <td>101</td>\n",
       "      <td>661.200012</td>\n",
       "      <td>0.420833</td>\n",
       "      <td>5099.380859</td>\n",
       "      <td>21.524664</td>\n",
       "      <td>9.824000</td>\n",
       "      <td>4.583333</td>\n",
       "      <td>660.500000</td>\n",
       "      <td>661.900024</td>\n",
       "    </tr>\n",
       "    <tr>\n",
       "      <th>2</th>\n",
       "      <td>3</td>\n",
       "      <td>61549</td>\n",
       "      <td>Butte</td>\n",
       "      <td>Thermalito Union Elementary</td>\n",
       "      <td>KK-08</td>\n",
       "      <td>1550</td>\n",
       "      <td>82.900002</td>\n",
       "      <td>55.032299</td>\n",
       "      <td>76.322601</td>\n",
       "      <td>169</td>\n",
       "      <td>643.599976</td>\n",
       "      <td>0.109032</td>\n",
       "      <td>5501.954590</td>\n",
       "      <td>18.697226</td>\n",
       "      <td>8.978000</td>\n",
       "      <td>30.000002</td>\n",
       "      <td>636.299988</td>\n",
       "      <td>650.900024</td>\n",
       "    </tr>\n",
       "    <tr>\n",
       "      <th>3</th>\n",
       "      <td>4</td>\n",
       "      <td>61457</td>\n",
       "      <td>Butte</td>\n",
       "      <td>Golden Feather Union Elementary</td>\n",
       "      <td>KK-08</td>\n",
       "      <td>243</td>\n",
       "      <td>14.000000</td>\n",
       "      <td>36.475399</td>\n",
       "      <td>77.049202</td>\n",
       "      <td>85</td>\n",
       "      <td>647.700012</td>\n",
       "      <td>0.349794</td>\n",
       "      <td>7101.831055</td>\n",
       "      <td>17.357143</td>\n",
       "      <td>8.978000</td>\n",
       "      <td>0.000000</td>\n",
       "      <td>651.900024</td>\n",
       "      <td>643.500000</td>\n",
       "    </tr>\n",
       "    <tr>\n",
       "      <th>4</th>\n",
       "      <td>5</td>\n",
       "      <td>61523</td>\n",
       "      <td>Butte</td>\n",
       "      <td>Palermo Union Elementary</td>\n",
       "      <td>KK-08</td>\n",
       "      <td>1335</td>\n",
       "      <td>71.500000</td>\n",
       "      <td>33.108601</td>\n",
       "      <td>78.427002</td>\n",
       "      <td>171</td>\n",
       "      <td>640.849976</td>\n",
       "      <td>0.128090</td>\n",
       "      <td>5235.987793</td>\n",
       "      <td>18.671329</td>\n",
       "      <td>9.080333</td>\n",
       "      <td>13.857677</td>\n",
       "      <td>641.799988</td>\n",
       "      <td>639.900024</td>\n",
       "    </tr>\n",
       "  </tbody>\n",
       "</table>\n",
       "</div>"
      ],
      "text/plain": [
       "   Unnamed: 0  distcod   county                         district grspan  \\\n",
       "0           1    75119  Alameda               Sunol Glen Unified  KK-08   \n",
       "1           2    61499    Butte             Manzanita Elementary  KK-08   \n",
       "2           3    61549    Butte      Thermalito Union Elementary  KK-08   \n",
       "3           4    61457    Butte  Golden Feather Union Elementary  KK-08   \n",
       "4           5    61523    Butte         Palermo Union Elementary  KK-08   \n",
       "\n",
       "   enrltot   teachers    calwpct    mealpct  computer     testscr   compstu  \\\n",
       "0      195  10.900000   0.510200   2.040800        67  690.799988  0.343590   \n",
       "1      240  11.150000  15.416700  47.916698       101  661.200012  0.420833   \n",
       "2     1550  82.900002  55.032299  76.322601       169  643.599976  0.109032   \n",
       "3      243  14.000000  36.475399  77.049202        85  647.700012  0.349794   \n",
       "4     1335  71.500000  33.108601  78.427002       171  640.849976  0.128090   \n",
       "\n",
       "       expnstu        str     avginc      elpct     readscr     mathscr  \n",
       "0  6384.911133  17.889910  22.690001   0.000000  691.599976  690.000000  \n",
       "1  5099.380859  21.524664   9.824000   4.583333  660.500000  661.900024  \n",
       "2  5501.954590  18.697226   8.978000  30.000002  636.299988  650.900024  \n",
       "3  7101.831055  17.357143   8.978000   0.000000  651.900024  643.500000  \n",
       "4  5235.987793  18.671329   9.080333  13.857677  641.799988  639.900024  "
      ]
     },
     "execution_count": 32,
     "metadata": {},
     "output_type": "execute_result"
    }
   ],
   "source": [
    "df = pd.read_csv('https://vincentarelbundock.github.io/Rdatasets/csv/Ecdat/Caschool.csv')\n",
    "df.head()"
   ]
  },
  {
   "cell_type": "code",
   "execution_count": 33,
   "metadata": {
    "id": "SFvLao_sf_Ny"
   },
   "outputs": [],
   "source": [
    "# Drop the extra score\n",
    "\n",
    "df.drop(columns=['readscr','mathscr','Unnamed: 0'],inplace = True)"
   ]
  },
  {
   "cell_type": "markdown",
   "metadata": {
    "id": "vLPqUhMIgtc1"
   },
   "source": [
    "### 1.1 Visualize the univariate distribution of the target feature and each of the three continuous explanatory variables that you think are likely to have a relationship with the target feature.   "
   ]
  },
  {
   "cell_type": "code",
   "execution_count": 34,
   "metadata": {
    "colab": {
     "base_uri": "https://localhost:8080/"
    },
    "id": "0Sd6d3SXiplU",
    "outputId": "326fb3c0-4813-45cc-c2f7-c53f4bfd2ddd"
   },
   "outputs": [
    {
     "name": "stdout",
     "output_type": "stream",
     "text": [
      "<class 'pandas.core.frame.DataFrame'>\n",
      "RangeIndex: 420 entries, 0 to 419\n",
      "Data columns (total 15 columns):\n",
      " #   Column    Non-Null Count  Dtype  \n",
      "---  ------    --------------  -----  \n",
      " 0   distcod   420 non-null    int64  \n",
      " 1   county    420 non-null    object \n",
      " 2   district  420 non-null    object \n",
      " 3   grspan    420 non-null    object \n",
      " 4   enrltot   420 non-null    int64  \n",
      " 5   teachers  420 non-null    float64\n",
      " 6   calwpct   420 non-null    float64\n",
      " 7   mealpct   420 non-null    float64\n",
      " 8   computer  420 non-null    int64  \n",
      " 9   testscr   420 non-null    float64\n",
      " 10  compstu   420 non-null    float64\n",
      " 11  expnstu   420 non-null    float64\n",
      " 12  str       420 non-null    float64\n",
      " 13  avginc    420 non-null    float64\n",
      " 14  elpct     420 non-null    float64\n",
      "dtypes: float64(9), int64(3), object(3)\n",
      "memory usage: 49.3+ KB\n"
     ]
    }
   ],
   "source": [
    "# Visualize DataFrame info\n",
    "\n",
    "df.info()"
   ]
  },
  {
   "cell_type": "code",
   "execution_count": 35,
   "metadata": {
    "colab": {
     "base_uri": "https://localhost:8080/",
     "height": 312
    },
    "id": "G36X8OdJgaRE",
    "outputId": "b2629943-bb40-4ba4-84c6-03c7b2a295df"
   },
   "outputs": [
    {
     "data": {
      "text/plain": [
       "Text(0.5, 1.0, 'Distribution of Test Score')"
      ]
     },
     "execution_count": 35,
     "metadata": {},
     "output_type": "execute_result"
    },
    {
     "data": {
      "image/png": "[encoded data removed]",
      "text/plain": [
       "<Figure size 432x288 with 1 Axes>"
      ]
     },
     "metadata": {
      "needs_background": "light"
     },
     "output_type": "display_data"
    }
   ],
   "source": [
    "# Histogram of the target\n",
    "\n",
    "sns.histplot(df.testscr)\n",
    "plt.title('Distribution of Test Score')"
   ]
  },
  {
   "cell_type": "code",
   "execution_count": 36,
   "metadata": {
    "colab": {
     "base_uri": "https://localhost:8080/",
     "height": 312
    },
    "id": "X2f-VCK1ikhx",
    "outputId": "8fed4611-0383-4316-c622-98c42286bed1"
   },
   "outputs": [
    {
     "data": {
      "text/plain": [
       "Text(0.5, 1.0, 'Distribution of Computer per Student')"
      ]
     },
     "execution_count": 36,
     "metadata": {},
     "output_type": "execute_result"
    },
    {
     "data": {
      "image/png": "[encoded data removed]",
      "text/plain": [
       "<Figure size 432x288 with 1 Axes>"
      ]
     },
     "metadata": {
      "needs_background": "light"
     },
     "output_type": "display_data"
    }
   ],
   "source": [
    "# Histograms of potential explanatory variables\n",
    "\n",
    "sns.histplot(df.compstu)\n",
    "plt.title('Distribution of Computer per Student')"
   ]
  },
  {
   "cell_type": "code",
   "execution_count": 37,
   "metadata": {
    "colab": {
     "base_uri": "https://localhost:8080/",
     "height": 312
    },
    "id": "KRTNozXFjucZ",
    "outputId": "0648c0cf-1284-455e-db6c-63fd00c4e1ee"
   },
   "outputs": [
    {
     "data": {
      "text/plain": [
       "Text(0.5, 1.0, 'Distribution of Expenditure per Student')"
      ]
     },
     "execution_count": 37,
     "metadata": {},
     "output_type": "execute_result"
    },
    {
     "data": {
      "image/png": "[encoded data removed]",
      "text/plain": [
       "<Figure size 432x288 with 1 Axes>"
      ]
     },
     "metadata": {
      "needs_background": "light"
     },
     "output_type": "display_data"
    }
   ],
   "source": [
    "sns.histplot(df.expnstu)\n",
    "plt.title('Distribution of Expenditure per Student')\n"
   ]
  },
  {
   "cell_type": "code",
   "execution_count": 38,
   "metadata": {
    "colab": {
     "base_uri": "https://localhost:8080/",
     "height": 312
    },
    "id": "km3THmSEj7Pr",
    "outputId": "7481b517-a01c-47da-b548-9d9a1df20cf1"
   },
   "outputs": [
    {
     "data": {
      "text/plain": [
       "Text(0.5, 1.0, 'Distribution of Percent Qualifying for Calworks')"
      ]
     },
     "execution_count": 38,
     "metadata": {},
     "output_type": "execute_result"
    },
    {
     "data": {
      "image/png": "[encoded data removed]",
      "text/plain": [
       "<Figure size 432x288 with 1 Axes>"
      ]
     },
     "metadata": {
      "needs_background": "light"
     },
     "output_type": "display_data"
    }
   ],
   "source": [
    "sns.histplot(df.calwpct)\n",
    "plt.title('Distribution of Percent Qualifying for Calworks')\n"
   ]
  },
  {
   "cell_type": "markdown",
   "metadata": {
    "id": "jOoo3loDkJ1M"
   },
   "source": [
    "### 1.2 Visualize the dependency of the target on each feature from 1.1."
   ]
  },
  {
   "cell_type": "code",
   "execution_count": 39,
   "metadata": {
    "colab": {
     "base_uri": "https://localhost:8080/",
     "height": 648
    },
    "id": "LlTlDbxQkJWr",
    "outputId": "4dd5e92d-6b60-4474-efab-ce1f02ff86a7"
   },
   "outputs": [
    {
     "data": {
      "text/plain": [
       "<seaborn.axisgrid.FacetGrid at 0x7fc2ec115700>"
      ]
     },
     "execution_count": 39,
     "metadata": {},
     "output_type": "execute_result"
    },
    {
     "data": {
      "image/png": "[encoded data removed]",
      "text/plain": [
       "<Figure size 432x288 with 1 Axes>"
      ]
     },
     "metadata": {
      "needs_background": "light"
     },
     "output_type": "display_data"
    },
    {
     "data": {
      "image/png": "[encoded data removed]",
      "text/plain": [
       "<Figure size 360x360 with 1 Axes>"
      ]
     },
     "metadata": {
      "needs_background": "light"
     },
     "output_type": "display_data"
    }
   ],
   "source": [
    "# Scatterplot and lineplot of the relationship between dependent variables and \n",
    "# potential explanatory variables\n",
    "\n",
    "sns.scatterplot(data=df, x=\"testscr\", y=\"compstu\")\n",
    "sns.lmplot(data=df, x=\"testscr\", y=\"compstu\")"
   ]
  },
  {
   "cell_type": "code",
   "execution_count": 40,
   "metadata": {
    "colab": {
     "base_uri": "https://localhost:8080/",
     "height": 648
    },
    "id": "mYX5m8UYkxYg",
    "outputId": "072a56b1-548d-48e6-af00-3f39c7e69c22"
   },
   "outputs": [
    {
     "data": {
      "text/plain": [
       "<seaborn.axisgrid.FacetGrid at 0x7fc2ec10f940>"
      ]
     },
     "execution_count": 40,
     "metadata": {},
     "output_type": "execute_result"
    },
    {
     "data": {
      "image/png": "[encoded data removed]",
      "text/plain": [
       "<Figure size 432x288 with 1 Axes>"
      ]
     },
     "metadata": {
      "needs_background": "light"
     },
     "output_type": "display_data"
    },
    {
     "data": {
      "image/png": "[encoded data removed]",
      "text/plain": [
       "<Figure size 360x360 with 1 Axes>"
      ]
     },
     "metadata": {
      "needs_background": "light"
     },
     "output_type": "display_data"
    }
   ],
   "source": [
    "sns.scatterplot(data=df, x=\"testscr\", y=\"expnstu\",color = 'pink')\n",
    "sns.lmplot(data=df, x=\"testscr\", y=\"expnstu\", line_kws={'color': 'pink'})"
   ]
  },
  {
   "cell_type": "code",
   "execution_count": 41,
   "metadata": {
    "colab": {
     "base_uri": "https://localhost:8080/",
     "height": 648
    },
    "id": "wCd-h0Nbl94G",
    "outputId": "a8a0512b-8092-44f1-be0f-a1b9f590add1"
   },
   "outputs": [
    {
     "data": {
      "text/plain": [
       "<seaborn.axisgrid.FacetGrid at 0x7fc2ec072130>"
      ]
     },
     "execution_count": 41,
     "metadata": {},
     "output_type": "execute_result"
    },
    {
     "data": {
      "image/png": "[encoded data removed]",
      "text/plain": [
       "<Figure size 432x288 with 1 Axes>"
      ]
     },
     "metadata": {
      "needs_background": "light"
     },
     "output_type": "display_data"
    },
    {
     "data": {
      "image/png": "[encoded data removed]",
      "text/plain": [
       "<Figure size 360x360 with 1 Axes>"
      ]
     },
     "metadata": {
      "needs_background": "light"
     },
     "output_type": "display_data"
    }
   ],
   "source": [
    "sns.scatterplot(data=df, x=\"testscr\", y=\"calwpct\",color = 'r')\n",
    "sns.lmplot(data=df, x=\"testscr\", y=\"calwpct\", line_kws={'color': 'r'})"
   ]
  },
  {
   "cell_type": "markdown",
   "metadata": {
    "id": "cDU520w8mFAR"
   },
   "source": [
    "### 1.3 Split data in training and test set. Build models that evaluate the relationship between all available X variables in the California test dataset and the target variable. Evaluate KNN for regression, Linear Regression (OLS), Ridge, and Lasso using cross-validation with the default parameters. Does scaling the data with the StandardScaler help?"
   ]
  },
  {
   "cell_type": "markdown",
   "metadata": {
    "id": "JvBT7qw9usyI"
   },
   "source": [
    "### 1.3 a Unscaled Data"
   ]
  },
  {
   "cell_type": "code",
   "execution_count": 42,
   "metadata": {
    "id": "Ujx1K9qlovlE"
   },
   "outputs": [],
   "source": [
    "# drop unnecessary columns\n",
    "\n",
    "df = df.iloc[:, 4:]"
   ]
  },
  {
   "cell_type": "code",
   "execution_count": 43,
   "metadata": {
    "colab": {
     "base_uri": "https://localhost:8080/",
     "height": 204
    },
    "id": "S2gNGWhFqKMn",
    "outputId": "efc14c8f-7da6-4a37-e3e0-cd7ef85b191e"
   },
   "outputs": [
    {
     "data": {
      "text/html": [
       "<div>\n",
       "<style scoped>\n",
       "    .dataframe tbody tr th:only-of-type {\n",
       "        vertical-align: middle;\n",
       "    }\n",
       "\n",
       "    .dataframe tbody tr th {\n",
       "        vertical-align: top;\n",
       "    }\n",
       "\n",
       "    .dataframe thead th {\n",
       "        text-align: right;\n",
       "    }\n",
       "</style>\n",
       "<table border=\"1\" class=\"dataframe\">\n",
       "  <thead>\n",
       "    <tr style=\"text-align: right;\">\n",
       "      <th></th>\n",
       "      <th>enrltot</th>\n",
       "      <th>teachers</th>\n",
       "      <th>calwpct</th>\n",
       "      <th>mealpct</th>\n",
       "      <th>computer</th>\n",
       "      <th>testscr</th>\n",
       "      <th>compstu</th>\n",
       "      <th>expnstu</th>\n",
       "      <th>str</th>\n",
       "      <th>avginc</th>\n",
       "      <th>elpct</th>\n",
       "    </tr>\n",
       "  </thead>\n",
       "  <tbody>\n",
       "    <tr>\n",
       "      <th>0</th>\n",
       "      <td>195</td>\n",
       "      <td>10.900000</td>\n",
       "      <td>0.510200</td>\n",
       "      <td>2.040800</td>\n",
       "      <td>67</td>\n",
       "      <td>690.799988</td>\n",
       "      <td>0.343590</td>\n",
       "      <td>6384.911133</td>\n",
       "      <td>17.889910</td>\n",
       "      <td>22.690001</td>\n",
       "      <td>0.000000</td>\n",
       "    </tr>\n",
       "    <tr>\n",
       "      <th>1</th>\n",
       "      <td>240</td>\n",
       "      <td>11.150000</td>\n",
       "      <td>15.416700</td>\n",
       "      <td>47.916698</td>\n",
       "      <td>101</td>\n",
       "      <td>661.200012</td>\n",
       "      <td>0.420833</td>\n",
       "      <td>5099.380859</td>\n",
       "      <td>21.524664</td>\n",
       "      <td>9.824000</td>\n",
       "      <td>4.583333</td>\n",
       "    </tr>\n",
       "    <tr>\n",
       "      <th>2</th>\n",
       "      <td>1550</td>\n",
       "      <td>82.900002</td>\n",
       "      <td>55.032299</td>\n",
       "      <td>76.322601</td>\n",
       "      <td>169</td>\n",
       "      <td>643.599976</td>\n",
       "      <td>0.109032</td>\n",
       "      <td>5501.954590</td>\n",
       "      <td>18.697226</td>\n",
       "      <td>8.978000</td>\n",
       "      <td>30.000002</td>\n",
       "    </tr>\n",
       "    <tr>\n",
       "      <th>3</th>\n",
       "      <td>243</td>\n",
       "      <td>14.000000</td>\n",
       "      <td>36.475399</td>\n",
       "      <td>77.049202</td>\n",
       "      <td>85</td>\n",
       "      <td>647.700012</td>\n",
       "      <td>0.349794</td>\n",
       "      <td>7101.831055</td>\n",
       "      <td>17.357143</td>\n",
       "      <td>8.978000</td>\n",
       "      <td>0.000000</td>\n",
       "    </tr>\n",
       "    <tr>\n",
       "      <th>4</th>\n",
       "      <td>1335</td>\n",
       "      <td>71.500000</td>\n",
       "      <td>33.108601</td>\n",
       "      <td>78.427002</td>\n",
       "      <td>171</td>\n",
       "      <td>640.849976</td>\n",
       "      <td>0.128090</td>\n",
       "      <td>5235.987793</td>\n",
       "      <td>18.671329</td>\n",
       "      <td>9.080333</td>\n",
       "      <td>13.857677</td>\n",
       "    </tr>\n",
       "  </tbody>\n",
       "</table>\n",
       "</div>"
      ],
      "text/plain": [
       "   enrltot   teachers    calwpct    mealpct  computer     testscr   compstu  \\\n",
       "0      195  10.900000   0.510200   2.040800        67  690.799988  0.343590   \n",
       "1      240  11.150000  15.416700  47.916698       101  661.200012  0.420833   \n",
       "2     1550  82.900002  55.032299  76.322601       169  643.599976  0.109032   \n",
       "3      243  14.000000  36.475399  77.049202        85  647.700012  0.349794   \n",
       "4     1335  71.500000  33.108601  78.427002       171  640.849976  0.128090   \n",
       "\n",
       "       expnstu        str     avginc      elpct  \n",
       "0  6384.911133  17.889910  22.690001   0.000000  \n",
       "1  5099.380859  21.524664   9.824000   4.583333  \n",
       "2  5501.954590  18.697226   8.978000  30.000002  \n",
       "3  7101.831055  17.357143   8.978000   0.000000  \n",
       "4  5235.987793  18.671329   9.080333  13.857677  "
      ]
     },
     "execution_count": 43,
     "metadata": {},
     "output_type": "execute_result"
    }
   ],
   "source": [
    "df.head()"
   ]
  },
  {
   "cell_type": "code",
   "execution_count": 44,
   "metadata": {
    "colab": {
     "base_uri": "https://localhost:8080/",
     "height": 204
    },
    "id": "OJfoMs3NmJUJ",
    "outputId": "92929d9a-3aab-4f01-ee30-4049c3d5bd0b"
   },
   "outputs": [
    {
     "data": {
      "text/html": [
       "<div>\n",
       "<style scoped>\n",
       "    .dataframe tbody tr th:only-of-type {\n",
       "        vertical-align: middle;\n",
       "    }\n",
       "\n",
       "    .dataframe tbody tr th {\n",
       "        vertical-align: top;\n",
       "    }\n",
       "\n",
       "    .dataframe thead th {\n",
       "        text-align: right;\n",
       "    }\n",
       "</style>\n",
       "<table border=\"1\" class=\"dataframe\">\n",
       "  <thead>\n",
       "    <tr style=\"text-align: right;\">\n",
       "      <th></th>\n",
       "      <th>enrltot</th>\n",
       "      <th>teachers</th>\n",
       "      <th>calwpct</th>\n",
       "      <th>mealpct</th>\n",
       "      <th>computer</th>\n",
       "      <th>compstu</th>\n",
       "      <th>expnstu</th>\n",
       "      <th>str</th>\n",
       "      <th>avginc</th>\n",
       "      <th>elpct</th>\n",
       "    </tr>\n",
       "  </thead>\n",
       "  <tbody>\n",
       "    <tr>\n",
       "      <th>0</th>\n",
       "      <td>195</td>\n",
       "      <td>10.900000</td>\n",
       "      <td>0.510200</td>\n",
       "      <td>2.040800</td>\n",
       "      <td>67</td>\n",
       "      <td>0.343590</td>\n",
       "      <td>6384.911133</td>\n",
       "      <td>17.889910</td>\n",
       "      <td>22.690001</td>\n",
       "      <td>0.000000</td>\n",
       "    </tr>\n",
       "    <tr>\n",
       "      <th>1</th>\n",
       "      <td>240</td>\n",
       "      <td>11.150000</td>\n",
       "      <td>15.416700</td>\n",
       "      <td>47.916698</td>\n",
       "      <td>101</td>\n",
       "      <td>0.420833</td>\n",
       "      <td>5099.380859</td>\n",
       "      <td>21.524664</td>\n",
       "      <td>9.824000</td>\n",
       "      <td>4.583333</td>\n",
       "    </tr>\n",
       "    <tr>\n",
       "      <th>2</th>\n",
       "      <td>1550</td>\n",
       "      <td>82.900002</td>\n",
       "      <td>55.032299</td>\n",
       "      <td>76.322601</td>\n",
       "      <td>169</td>\n",
       "      <td>0.109032</td>\n",
       "      <td>5501.954590</td>\n",
       "      <td>18.697226</td>\n",
       "      <td>8.978000</td>\n",
       "      <td>30.000002</td>\n",
       "    </tr>\n",
       "    <tr>\n",
       "      <th>3</th>\n",
       "      <td>243</td>\n",
       "      <td>14.000000</td>\n",
       "      <td>36.475399</td>\n",
       "      <td>77.049202</td>\n",
       "      <td>85</td>\n",
       "      <td>0.349794</td>\n",
       "      <td>7101.831055</td>\n",
       "      <td>17.357143</td>\n",
       "      <td>8.978000</td>\n",
       "      <td>0.000000</td>\n",
       "    </tr>\n",
       "    <tr>\n",
       "      <th>4</th>\n",
       "      <td>1335</td>\n",
       "      <td>71.500000</td>\n",
       "      <td>33.108601</td>\n",
       "      <td>78.427002</td>\n",
       "      <td>171</td>\n",
       "      <td>0.128090</td>\n",
       "      <td>5235.987793</td>\n",
       "      <td>18.671329</td>\n",
       "      <td>9.080333</td>\n",
       "      <td>13.857677</td>\n",
       "    </tr>\n",
       "  </tbody>\n",
       "</table>\n",
       "</div>"
      ],
      "text/plain": [
       "   enrltot   teachers    calwpct    mealpct  computer   compstu      expnstu  \\\n",
       "0      195  10.900000   0.510200   2.040800        67  0.343590  6384.911133   \n",
       "1      240  11.150000  15.416700  47.916698       101  0.420833  5099.380859   \n",
       "2     1550  82.900002  55.032299  76.322601       169  0.109032  5501.954590   \n",
       "3      243  14.000000  36.475399  77.049202        85  0.349794  7101.831055   \n",
       "4     1335  71.500000  33.108601  78.427002       171  0.128090  5235.987793   \n",
       "\n",
       "         str     avginc      elpct  \n",
       "0  17.889910  22.690001   0.000000  \n",
       "1  21.524664   9.824000   4.583333  \n",
       "2  18.697226   8.978000  30.000002  \n",
       "3  17.357143   8.978000   0.000000  \n",
       "4  18.671329   9.080333  13.857677  "
      ]
     },
     "execution_count": 44,
     "metadata": {},
     "output_type": "execute_result"
    }
   ],
   "source": [
    "# Split data in training and test set\n",
    "\n",
    "y = df['testscr']\n",
    "X = df.loc[:, df.columns != 'testscr']\n",
    "X_train, X_test, y_train, y_test = train_test_split(X, y, random_state=42) \n",
    "\n",
    "X.head()"
   ]
  },
  {
   "cell_type": "code",
   "execution_count": 45,
   "metadata": {
    "id": "re5Z-hR0qhNH"
   },
   "outputs": [],
   "source": [
    "# Assign K-Fold\n",
    "\n",
    "kfold = KFold()"
   ]
  },
  {
   "cell_type": "markdown",
   "metadata": {
    "id": "F7ZLUULDtoGv"
   },
   "source": [
    "K-nearest neighbors regressor with cross validation"
   ]
  },
  {
   "cell_type": "code",
   "execution_count": 46,
   "metadata": {
    "colab": {
     "base_uri": "https://localhost:8080/"
    },
    "id": "Cbh0y6LSoCqn",
    "outputId": "2b81532d-5e30-4f8d-90ed-aa08e5fab648"
   },
   "outputs": [
    {
     "name": "stdout",
     "output_type": "stream",
     "text": [
      "Training data set score: 0.30\n",
      "Test dataset score: 0.08\n",
      "K-Fold:\n",
      "[-0.28842695 -0.02010055  0.01334392 -0.09919401  0.12442687]\n",
      "Mean of K-Fold:\n",
      "-0.05399014482377114\n"
     ]
    }
   ],
   "source": [
    "# K-nearest neighbors (default) regressor with Cross Validation (default)\n",
    "\n",
    "knn = KNeighborsRegressor()\n",
    "knn.fit(X_train, y_train)\n",
    "print(\"Training data set score: {:.2f}\".format(knn.score(X_train, y_train)))\n",
    "print(\"Test dataset score: {:.2f}\".format(knn.score(X_test, y_test)))\n",
    "print(\"K-Fold:\\n{}\".format(cross_val_score(knn, X_train,y_train, cv=kfold)))\n",
    "print(\"Mean of K-Fold:\\n{}\".format(np.mean(cross_val_score(knn, X_train, y_train, cv=kfold))))\n",
    "#y_pred = knn.predict(X_test)\n",
    "\n"
   ]
  },
  {
   "cell_type": "markdown",
   "metadata": {
    "id": "s3hceupitswr"
   },
   "source": [
    "Linear Regression (OLS) with cross validation"
   ]
  },
  {
   "cell_type": "code",
   "execution_count": 47,
   "metadata": {
    "colab": {
     "base_uri": "https://localhost:8080/"
    },
    "id": "IzVZ6iI6teWo",
    "outputId": "b6b35911-9ebf-41e1-f315-a6e417e65fe2"
   },
   "outputs": [
    {
     "name": "stdout",
     "output_type": "stream",
     "text": [
      "Training dataset score: 0.81\n",
      "Test dataset score: 0.81\n",
      "K-Fold:\n",
      "[0.83368205 0.80221441 0.71553753 0.78819713 0.76387926]\n",
      "Mean of K-Fold:\n",
      "0.7807020742805932\n"
     ]
    }
   ],
   "source": [
    "# Linear Regression (OLS)\n",
    "\n",
    "lr = LinearRegression()\n",
    "lr.fit(X_train, y_train)\n",
    "print(\"Training dataset score: {:.2f}\".format(lr.score(X_train, y_train)))\n",
    "print(\"Test dataset score: {:.2f}\".format(lr.score(X_test, y_test)))\n",
    "print(\"K-Fold:\\n{}\".format(cross_val_score(lr, X_train, y_train, cv=kfold)))\n",
    "print(\"Mean of K-Fold:\\n{}\".format(np.mean(cross_val_score(lr, X_train, y_train, cv=kfold))))"
   ]
  },
  {
   "cell_type": "markdown",
   "metadata": {
    "id": "gNB0w2YIwxNX"
   },
   "source": [
    "Ridge Regression"
   ]
  },
  {
   "cell_type": "code",
   "execution_count": 48,
   "metadata": {
    "colab": {
     "base_uri": "https://localhost:8080/"
    },
    "id": "YBmdFsblw1qv",
    "outputId": "27ca35a8-dc2e-43a1-d983-7a206c172163"
   },
   "outputs": [
    {
     "name": "stdout",
     "output_type": "stream",
     "text": [
      "Training dataset score: 0.81\n",
      "Test dataset score: 0.81\n",
      "K-Fold:\n",
      "[0.83368442 0.80335391 0.71572805 0.79631673 0.76436838]\n",
      "Mean of K-Fold:\n",
      "0.7826902950593002\n"
     ]
    }
   ],
   "source": [
    "#Ridge Regression\n",
    "\n",
    "ridge = Ridge()\n",
    "ridge.fit(X_train, y_train)\n",
    "print(\"Training dataset score: {:.2f}\".format(ridge.score(X_train, y_train)))\n",
    "print(\"Test dataset score: {:.2f}\".format(ridge.score(X_test, y_test)))\n",
    "print(\"K-Fold:\\n{}\".format(cross_val_score(ridge, X_train, y_train, cv=kfold)))\n",
    "print(\"Mean of K-Fold:\\n{}\".format(np.mean(cross_val_score(ridge, X_train, y_train, cv=kfold))))"
   ]
  },
  {
   "cell_type": "markdown",
   "metadata": {
    "id": "XfcYgY8kwEjP"
   },
   "source": [
    "Lasso Regression"
   ]
  },
  {
   "cell_type": "code",
   "execution_count": 49,
   "metadata": {
    "colab": {
     "base_uri": "https://localhost:8080/"
    },
    "id": "VVRtg_ktxXmL",
    "outputId": "c85b5496-27a5-4d4d-b699-957e332763fc"
   },
   "outputs": [
    {
     "name": "stdout",
     "output_type": "stream",
     "text": [
      "Training dataset score: 0.80\n",
      "Test dataset score: 0.81\n",
      "K-Fold:\n",
      "[0.84215024 0.80270275 0.71631566 0.80231838 0.7704429 ]\n",
      "Mean of K-Fold:\n",
      "0.7867859839640902\n"
     ]
    }
   ],
   "source": [
    "# Ignore warning\n",
    "\n",
    "warnings.filterwarnings(\"ignore\")\n",
    "\n",
    "lasso = Lasso().fit(X_train, y_train)\n",
    "print(\"Training dataset score: {:.2f}\".format(lasso.score(X_train, y_train)))\n",
    "print(\"Test dataset score: {:.2f}\".format(lasso.score(X_test, y_test)))\n",
    "print(\"K-Fold:\\n{}\".format(cross_val_score(lasso, X_train, y_train, cv=kfold)))\n",
    "print(\"Mean of K-Fold:\\n{}\".format(np.mean(cross_val_score(lasso, X_train, y_train, cv=kfold))))\n",
    "\n",
    "#print(\"Number of features used: {}\".format(np.sum(lasso.coef_ != 0)))"
   ]
  },
  {
   "cell_type": "markdown",
   "metadata": {
    "id": "oVMtTZxwycGl"
   },
   "source": [
    "### 1.3 b Does scaling the data with the StandardScaler help?"
   ]
  },
  {
   "cell_type": "code",
   "execution_count": 50,
   "metadata": {
    "id": "GQhpL7hsybTi"
   },
   "outputs": [],
   "source": [
    "# Use StandardScaler() to standardize data\n",
    "\n",
    "scaler = StandardScaler().fit(X_train)\n",
    "X_train_scaled = scaler.transform(X_train)   \n",
    "X_test_scaled = scaler.transform(X_test)                      "
   ]
  },
  {
   "cell_type": "code",
   "execution_count": 51,
   "metadata": {
    "colab": {
     "base_uri": "https://localhost:8080/"
    },
    "id": "nSDXFxS40AVn",
    "outputId": "b3adf9be-9738-469f-b417-ef4b1d70ecac"
   },
   "outputs": [
    {
     "name": "stdout",
     "output_type": "stream",
     "text": [
      "Training dataset score: 0.81\n",
      "Test dataset score: 0.77\n",
      "K-Fold:\n",
      "[0.68846149 0.74167355 0.65958402 0.74652763 0.71945377]\n",
      "Mean of K-Fold:\n",
      "0.7111400899098527\n"
     ]
    }
   ],
   "source": [
    "# K-nearest neighbors (default) regressor with Cross Validation (default)\n",
    "# Scaled\n",
    "knn = KNeighborsRegressor()\n",
    "knn.fit(X_train_scaled, y_train)\n",
    "\n",
    "print(\"Training dataset score: {:.2f}\".format(knn.score(X_train_scaled, y_train)))\n",
    "print(\"Test dataset score: {:.2f}\".format(knn.score(X_test_scaled, y_test)))\n",
    "print(\"K-Fold:\\n{}\".format(cross_val_score(knn,X_train_scaled, y_train,cv=kfold)))\n",
    "print(\"Mean of K-Fold:\\n{}\".format(np.mean(cross_val_score(knn, X_train_scaled, y_train, cv=kfold))))"
   ]
  },
  {
   "cell_type": "markdown",
   "metadata": {
    "id": "F1mMTjRL1SiP"
   },
   "source": [
    "#### Comparing KNN Regressor: The unscaled (cross validation) is -0.054, and scaled (cross validation) is 0.711.\n",
    "#### Improved."
   ]
  },
  {
   "cell_type": "code",
   "execution_count": 52,
   "metadata": {
    "colab": {
     "base_uri": "https://localhost:8080/"
    },
    "id": "E-JszKSb0aBk",
    "outputId": "3fe29c95-683b-455b-ad2f-3b2f253a63ba"
   },
   "outputs": [
    {
     "name": "stdout",
     "output_type": "stream",
     "text": [
      "Training dataset score: 0.81\n",
      "The test dataset has score: 0.81\n",
      "K-Fold:\n",
      "[0.83368205 0.80221441 0.71553753 0.78819713 0.76387926]\n",
      "The mean of K-Fold:\n",
      "0.7807020742805933\n"
     ]
    }
   ],
   "source": [
    "# Linear Regression (OLS)\n",
    "# Scaled\n",
    "\n",
    "lr = LinearRegression()\n",
    "lr.fit(X_train_scaled, y_train)\n",
    "\n",
    "print(\"Training dataset score: {:.2f}\".format(lr.score(X_train_scaled, y_train)))\n",
    "print(\"The test dataset has score: {:.2f}\".format(lr.score(X_test_scaled, y_test)))\n",
    "print(\"K-Fold:\\n{}\".format(cross_val_score(lr, X_train_scaled, y_train, cv=kfold)))\n",
    "print(\"The mean of K-Fold:\\n{}\".format(np.mean(cross_val_score(lr, X_train_scaled, y_train, cv=kfold))))"
   ]
  },
  {
   "cell_type": "markdown",
   "metadata": {
    "id": "1fCbnPAw2LMr"
   },
   "source": [
    "#### Comparing Linear Regression: The unscaled score (cross validation) is 0.781, and scaled score (cross validation) is 0.781.\n",
    "#### Not Improved."
   ]
  },
  {
   "cell_type": "code",
   "execution_count": 54,
   "metadata": {
    "colab": {
     "base_uri": "https://localhost:8080/"
    },
    "id": "f5V0ZUo10pGG",
    "outputId": "1a4f08f7-872b-4d2a-a04b-36379e96caa2"
   },
   "outputs": [
    {
     "name": "stdout",
     "output_type": "stream",
     "text": [
      "Training dataset score: 0.81\n",
      "Test dataset has score: 0.81\n",
      "K-Fold:\n",
      "[0.83430309 0.80175798 0.71730092 0.79028024 0.7736127 ]\n",
      "Mean of K-Fold:\n",
      "0.7834509841384873\n"
     ]
    }
   ],
   "source": [
    "# Ridge\n",
    "# Scaled\n",
    "\n",
    "ridge = Ridge().fit(X_train_scaled, y_train)\n",
    "print(\"Training dataset score: {:.2f}\".format(ridge.score(X_train_scaled, y_train)))\n",
    "print(\"Test dataset has score: {:.2f}\".format(ridge.score(X_test_scaled, y_test)))\n",
    "print(\"K-Fold:\\n{}\".format(cross_val_score(ridge, X_train_scaled, y_train, cv=kfold)))\n",
    "print(\"Mean of K-Fold:\\n{}\".format(np.mean(cross_val_score(ridge, X_train_scaled, y_train, cv=kfold))))"
   ]
  },
  {
   "cell_type": "markdown",
   "metadata": {
    "id": "3V-NVibr2dIy"
   },
   "source": [
    "#### Comparing Ridge Regression: The unscaled (cross validation) is 0.783, and scaled (cross validation) is 0.783.\n",
    "#### Not Improved."
   ]
  },
  {
   "cell_type": "code",
   "execution_count": 55,
   "metadata": {
    "colab": {
     "base_uri": "https://localhost:8080/"
    },
    "id": "_3SdPrEP04qU",
    "outputId": "86c9a649-bd85-4963-9570-e2e88cea0ed9"
   },
   "outputs": [
    {
     "name": "stdout",
     "output_type": "stream",
     "text": [
      "Training dataset score: 0.80\n",
      "Test dataset score: 0.79\n",
      "K-Fold:\n",
      "[0.84356301 0.80485383 0.73287244 0.78490019 0.75579764]\n",
      "Mean of K-Fold:\n",
      "0.7843974241329831\n"
     ]
    }
   ],
   "source": [
    "# Lasso\n",
    "# Scaled\n",
    "\n",
    "lasso = Lasso().fit(X_train_scaled, y_train)\n",
    "print(\"Training dataset score: {:.2f}\".format(lasso.score(X_train_scaled, y_train)))\n",
    "print(\"Test dataset score: {:.2f}\".format(lasso.score(X_test_scaled, y_test)))\n",
    "print(\"K-Fold:\\n{}\".format(cross_val_score(lasso, X_train_scaled, y_train, cv=kfold)))\n",
    "print(\"Mean of K-Fold:\\n{}\".format(np.mean(cross_val_score(lasso, X_train_scaled, y_train, cv=kfold))))\n"
   ]
  },
  {
   "cell_type": "markdown",
   "metadata": {
    "id": "nKzDTG442nZY"
   },
   "source": [
    "#### Comparing Lasso Regression: The unscaled score (cross validation) is 0.787, and scaled score (cross validation) is 0.783.\n",
    "#### Similar, slightly improved. \n",
    "#### not really improved."
   ]
  },
  {
   "cell_type": "markdown",
   "metadata": {
    "id": "94G9lkOm2zTg"
   },
   "source": [
    "## 1.4 Tune the parameters of the models where possible using GridSearchCV. Do the results improve?"
   ]
  },
  {
   "cell_type": "code",
   "execution_count": 56,
   "metadata": {
    "colab": {
     "base_uri": "https://localhost:8080/"
    },
    "id": "-fDXjA112yyA",
    "outputId": "0cebe3f2-7f2f-4240-98ec-5984ef75a8e3"
   },
   "outputs": [
    {
     "name": "stdout",
     "output_type": "stream",
     "text": [
      "The best parameter is: \n",
      "12\n",
      "The best parameter provides test score: \n",
      "0.7602\n"
     ]
    }
   ],
   "source": [
    "#KNN Regressor with Grid Search\n",
    "knn_pipe_reg = make_pipeline(StandardScaler(), KNeighborsRegressor())\n",
    "\n",
    "param_grid = {'kneighborsregressor__n_neighbors': np.arange(0, 19, 3)}\n",
    "knn_grid = GridSearchCV(knn_pipe_reg, param_grid=param_grid, cv=kfold)\n",
    "\n",
    "knn_grid.fit(X_train_scaled, y_train)\n",
    "print(\"The best parameter is: \\n{}\".format(knn_grid.best_params_['kneighborsregressor__n_neighbors']))\n",
    "print(\"The best parameter provides test score: \\n{:.4f}\".format(knn_grid.score(X_test_scaled, y_test)))"
   ]
  },
  {
   "cell_type": "markdown",
   "metadata": {
    "id": "e94Md5seBksg"
   },
   "source": [
    "Do the KNN results improve?: Improved from 0.711 to 0.760"
   ]
  },
  {
   "cell_type": "markdown",
   "metadata": {
    "id": "kXD1MajZ9F7x"
   },
   "source": [
    "Linear Regression has no hyper-parameter."
   ]
  },
  {
   "cell_type": "code",
   "execution_count": 57,
   "metadata": {
    "colab": {
     "base_uri": "https://localhost:8080/"
    },
    "id": "SVXvRjGE_4xq",
    "outputId": "2f978a16-a2aa-4efb-fa1f-e188d65a2359"
   },
   "outputs": [
    {
     "name": "stdout",
     "output_type": "stream",
     "text": [
      "The best parameter is: \n",
      "{'ridge__alpha': 10.0}\n",
      "The best parameter provides test score: \n",
      "0.8045\n"
     ]
    }
   ],
   "source": [
    "#Ridge Regressor with Grid Search\n",
    "\n",
    "# Ridge Regression with Grid Search\n",
    "#ridge_param_grid = {'alpha':  np.logspace(-3,3,10)}\n",
    "#ridge_pipe = make_pipeline(StandardScaler(), GridSearchCV(Ridge(),param_grid = ridge_param_grid, return_train_score=True,cv=kfold))\n",
    "#grid = GridSearchCV(ridge_pipe_reg, param_grid=param_grid, cv=kfold)\n",
    "#ridge_pipe.fit(X_train_scaled, y_train)\n",
    "#results = ridge_pipe.named_steps['gridsearchcv']\n",
    "#print(\"The best parameter is: \\n{}\".format(results.best_params_))\n",
    "#print(\"The best parameter provides test score: \\n{:.4f}\".format(results.best_score_))\n",
    "\n",
    "\n",
    "ridge_pipe_reg = make_pipeline(StandardScaler(), Ridge())\n",
    "\n",
    "param_grid_ridge = {'ridge__alpha': np.logspace(-3,3,10)}\n",
    "ridge_grid = GridSearchCV(ridge_pipe_reg, param_grid=param_grid_ridge, cv=kfold)\n",
    "\n",
    "ridge_grid.fit(X_train_scaled, y_train)\n",
    "print(\"The best parameter is: \\n{}\".format(ridge_grid.best_params_))\n",
    "print(\"The best parameter provides test score: \\n{:.4f}\".format(ridge_grid.score(X_test_scaled, y_test)))"
   ]
  },
  {
   "cell_type": "markdown",
   "metadata": {
    "id": "cgxAT9wUBt1_"
   },
   "source": [
    "Do the Ridge results improve?: Improved from 0.783 to 0.8045"
   ]
  },
  {
   "cell_type": "code",
   "execution_count": 25,
   "metadata": {
    "colab": {
     "base_uri": "https://localhost:8080/"
    },
    "id": "JTq8aGdVA9kj",
    "outputId": "f0ae515e-bbb5-46a4-b07e-e99f3bf26067"
   },
   "outputs": [
    {
     "name": "stdout",
     "output_type": "stream",
     "text": [
      "The best parameter is: \n",
      "{'lasso__alpha': 0.46415888336127775}\n",
      "The best parameter provides test score: \n",
      "0.7989\n"
     ]
    }
   ],
   "source": [
    "# Lasso Regressor with Grid Search\n",
    "\n",
    "lasso_pipe_reg = make_pipeline(StandardScaler(), Lasso())\n",
    "\n",
    "param_grid_lasso = {'lasso__alpha': np.logspace(-3,3,10)}\n",
    "lasso_grid = GridSearchCV(lasso_pipe_reg, param_grid=param_grid_lasso, cv=kfold)\n",
    "\n",
    "lasso_grid.fit(X_train_scaled, y_train)\n",
    "print(\"The best parameter is: \\n{}\".format(lasso_grid.best_params_))\n",
    "print(\"The best parameter provides test score: \\n{:.4f}\".format(lasso_grid.score(X_test_scaled, y_test)))"
   ]
  },
  {
   "cell_type": "markdown",
   "metadata": {
    "id": "UudDZ0Q7CJ39"
   },
   "source": [
    "Do the Lasso results improve?: Improved (slightly) from 0.784 to 0.799"
   ]
  },
  {
   "cell_type": "markdown",
   "metadata": {
    "id": "TzpkJWyiCb9J"
   },
   "source": [
    "## 1.5 Compare the coefficients of your two best linear models (not knn), do they agree on which features are important?"
   ]
  },
  {
   "cell_type": "markdown",
   "metadata": {
    "id": "aSKfKIbhCg9f"
   },
   "source": [
    "The two best linear models are Ridge Regression and Lasso Regression."
   ]
  },
  {
   "cell_type": "code",
   "execution_count": 26,
   "metadata": {
    "colab": {
     "base_uri": "https://localhost:8080/",
     "height": 359
    },
    "id": "H_3xNMkGCeWw",
    "outputId": "191ca440-ef39-4ca3-d18c-e8ed1c6a58ca"
   },
   "outputs": [
    {
     "data": {
      "text/html": [
       "<div>\n",
       "<style scoped>\n",
       "    .dataframe tbody tr th:only-of-type {\n",
       "        vertical-align: middle;\n",
       "    }\n",
       "\n",
       "    .dataframe tbody tr th {\n",
       "        vertical-align: top;\n",
       "    }\n",
       "\n",
       "    .dataframe thead th {\n",
       "        text-align: right;\n",
       "    }\n",
       "</style>\n",
       "<table border=\"1\" class=\"dataframe\">\n",
       "  <thead>\n",
       "    <tr style=\"text-align: right;\">\n",
       "      <th></th>\n",
       "      <th>Lasso</th>\n",
       "      <th>Feature Not Used</th>\n",
       "      <th>Ridge</th>\n",
       "    </tr>\n",
       "  </thead>\n",
       "  <tbody>\n",
       "    <tr>\n",
       "      <th>enrltot</th>\n",
       "      <td>-0.000000</td>\n",
       "      <td>True</td>\n",
       "      <td>0.072695</td>\n",
       "    </tr>\n",
       "    <tr>\n",
       "      <th>teachers</th>\n",
       "      <td>-0.000000</td>\n",
       "      <td>True</td>\n",
       "      <td>-0.928104</td>\n",
       "    </tr>\n",
       "    <tr>\n",
       "      <th>calwpct</th>\n",
       "      <td>-0.000000</td>\n",
       "      <td>True</td>\n",
       "      <td>-1.242371</td>\n",
       "    </tr>\n",
       "    <tr>\n",
       "      <th>mealpct</th>\n",
       "      <td>-10.639962</td>\n",
       "      <td>False</td>\n",
       "      <td>-9.656039</td>\n",
       "    </tr>\n",
       "    <tr>\n",
       "      <th>computer</th>\n",
       "      <td>-0.000000</td>\n",
       "      <td>True</td>\n",
       "      <td>0.944688</td>\n",
       "    </tr>\n",
       "    <tr>\n",
       "      <th>compstu</th>\n",
       "      <td>0.000000</td>\n",
       "      <td>True</td>\n",
       "      <td>-0.080996</td>\n",
       "    </tr>\n",
       "    <tr>\n",
       "      <th>expnstu</th>\n",
       "      <td>0.458524</td>\n",
       "      <td>False</td>\n",
       "      <td>1.157061</td>\n",
       "    </tr>\n",
       "    <tr>\n",
       "      <th>str</th>\n",
       "      <td>-0.227045</td>\n",
       "      <td>False</td>\n",
       "      <td>-0.639715</td>\n",
       "    </tr>\n",
       "    <tr>\n",
       "      <th>avginc</th>\n",
       "      <td>3.323632</td>\n",
       "      <td>False</td>\n",
       "      <td>3.738845</td>\n",
       "    </tr>\n",
       "    <tr>\n",
       "      <th>elpct</th>\n",
       "      <td>-2.556799</td>\n",
       "      <td>False</td>\n",
       "      <td>-3.522555</td>\n",
       "    </tr>\n",
       "  </tbody>\n",
       "</table>\n",
       "</div>"
      ],
      "text/plain": [
       "              Lasso  Feature Not Used     Ridge\n",
       "enrltot   -0.000000              True  0.072695\n",
       "teachers  -0.000000              True -0.928104\n",
       "calwpct   -0.000000              True -1.242371\n",
       "mealpct  -10.639962             False -9.656039\n",
       "computer  -0.000000              True  0.944688\n",
       "compstu    0.000000              True -0.080996\n",
       "expnstu    0.458524             False  1.157061\n",
       "str       -0.227045             False -0.639715\n",
       "avginc     3.323632             False  3.738845\n",
       "elpct     -2.556799             False -3.522555"
      ]
     },
     "execution_count": 26,
     "metadata": {},
     "output_type": "execute_result"
    }
   ],
   "source": [
    "# Print coefficient table\n",
    "\n",
    "coef_df_lasso = pd.DataFrame(data = lasso.coef_, index = X_train.columns, columns = ['Lasso'])\n",
    "coef_df_lasso['Feature Not Used'] = coef_df_lasso['Lasso'].apply(lambda x: True if (x  == 0) else False)\n",
    "coef_df_ridge = pd.DataFrame(data = ridge.coef_, index = X_train.columns, columns = ['Ridge'])\n",
    "pd.concat([coef_df_lasso, coef_df_ridge], axis=1)\n"
   ]
  },
  {
   "cell_type": "markdown",
   "metadata": {
    "id": "LOioIUdZHkYa"
   },
   "source": [
    "In the coefficient table above, Lasso Regression has 8 features remained and two features (**compstu** and **str**) reduced the coefficients to zero, which means these two features are not that important to the target. The ridge regression also shrunk the coefficients, but there are no features that have zero coefficients.\n",
    "\n",
    "\n",
    "**Mealpct** in both regression models have negative relationship, and **avginc** has positive relationship."
   ]
  },
  {
   "cell_type": "markdown",
   "metadata": {
    "id": "fxt6TtM6IaBz"
   },
   "source": [
    "## 1.6 Discuss which final model you would choose to predict new data"
   ]
  },
  {
   "cell_type": "markdown",
   "metadata": {
    "id": "9Et5wX1-JIqg"
   },
   "source": [
    "I will choose the Ridge Regression (alpha = 10), since it has the highest score (0.8045)"
   ]
  },
  {
   "cell_type": "markdown",
   "metadata": {
    "id": "kP8kzKsYKQ-v"
   },
   "source": [
    "# Part 2: Classification on red and white wine characteristics"
   ]
  },
  {
   "cell_type": "code",
   "execution_count": 58,
   "metadata": {
    "colab": {
     "base_uri": "https://localhost:8080/",
     "height": 221
    },
    "id": "fA8jNjA-LGdh",
    "outputId": "1d509832-32ac-482c-df09-ce73cf877473"
   },
   "outputs": [
    {
     "data": {
      "text/html": [
       "<div>\n",
       "<style scoped>\n",
       "    .dataframe tbody tr th:only-of-type {\n",
       "        vertical-align: middle;\n",
       "    }\n",
       "\n",
       "    .dataframe tbody tr th {\n",
       "        vertical-align: top;\n",
       "    }\n",
       "\n",
       "    .dataframe thead th {\n",
       "        text-align: right;\n",
       "    }\n",
       "</style>\n",
       "<table border=\"1\" class=\"dataframe\">\n",
       "  <thead>\n",
       "    <tr style=\"text-align: right;\">\n",
       "      <th></th>\n",
       "      <th>fixed acidity</th>\n",
       "      <th>volatile acidity</th>\n",
       "      <th>citric acid</th>\n",
       "      <th>residual sugar</th>\n",
       "      <th>chlorides</th>\n",
       "      <th>free sulfur dioxide</th>\n",
       "      <th>total sulfur dioxide</th>\n",
       "      <th>density</th>\n",
       "      <th>pH</th>\n",
       "      <th>sulphates</th>\n",
       "      <th>alcohol</th>\n",
       "      <th>quality</th>\n",
       "      <th>winetype</th>\n",
       "    </tr>\n",
       "  </thead>\n",
       "  <tbody>\n",
       "    <tr>\n",
       "      <th>0</th>\n",
       "      <td>7.4</td>\n",
       "      <td>0.70</td>\n",
       "      <td>0.00</td>\n",
       "      <td>1.9</td>\n",
       "      <td>0.076</td>\n",
       "      <td>11.0</td>\n",
       "      <td>34.0</td>\n",
       "      <td>0.9978</td>\n",
       "      <td>3.51</td>\n",
       "      <td>0.56</td>\n",
       "      <td>9.4</td>\n",
       "      <td>5</td>\n",
       "      <td>1</td>\n",
       "    </tr>\n",
       "    <tr>\n",
       "      <th>1</th>\n",
       "      <td>7.8</td>\n",
       "      <td>0.88</td>\n",
       "      <td>0.00</td>\n",
       "      <td>2.6</td>\n",
       "      <td>0.098</td>\n",
       "      <td>25.0</td>\n",
       "      <td>67.0</td>\n",
       "      <td>0.9968</td>\n",
       "      <td>3.20</td>\n",
       "      <td>0.68</td>\n",
       "      <td>9.8</td>\n",
       "      <td>5</td>\n",
       "      <td>1</td>\n",
       "    </tr>\n",
       "    <tr>\n",
       "      <th>2</th>\n",
       "      <td>7.8</td>\n",
       "      <td>0.76</td>\n",
       "      <td>0.04</td>\n",
       "      <td>2.3</td>\n",
       "      <td>0.092</td>\n",
       "      <td>15.0</td>\n",
       "      <td>54.0</td>\n",
       "      <td>0.9970</td>\n",
       "      <td>3.26</td>\n",
       "      <td>0.65</td>\n",
       "      <td>9.8</td>\n",
       "      <td>5</td>\n",
       "      <td>1</td>\n",
       "    </tr>\n",
       "    <tr>\n",
       "      <th>3</th>\n",
       "      <td>11.2</td>\n",
       "      <td>0.28</td>\n",
       "      <td>0.56</td>\n",
       "      <td>1.9</td>\n",
       "      <td>0.075</td>\n",
       "      <td>17.0</td>\n",
       "      <td>60.0</td>\n",
       "      <td>0.9980</td>\n",
       "      <td>3.16</td>\n",
       "      <td>0.58</td>\n",
       "      <td>9.8</td>\n",
       "      <td>6</td>\n",
       "      <td>1</td>\n",
       "    </tr>\n",
       "    <tr>\n",
       "      <th>4</th>\n",
       "      <td>7.4</td>\n",
       "      <td>0.70</td>\n",
       "      <td>0.00</td>\n",
       "      <td>1.9</td>\n",
       "      <td>0.076</td>\n",
       "      <td>11.0</td>\n",
       "      <td>34.0</td>\n",
       "      <td>0.9978</td>\n",
       "      <td>3.51</td>\n",
       "      <td>0.56</td>\n",
       "      <td>9.4</td>\n",
       "      <td>5</td>\n",
       "      <td>1</td>\n",
       "    </tr>\n",
       "  </tbody>\n",
       "</table>\n",
       "</div>"
      ],
      "text/plain": [
       "   fixed acidity  volatile acidity  citric acid  residual sugar  chlorides  \\\n",
       "0            7.4              0.70         0.00             1.9      0.076   \n",
       "1            7.8              0.88         0.00             2.6      0.098   \n",
       "2            7.8              0.76         0.04             2.3      0.092   \n",
       "3           11.2              0.28         0.56             1.9      0.075   \n",
       "4            7.4              0.70         0.00             1.9      0.076   \n",
       "\n",
       "   free sulfur dioxide  total sulfur dioxide  density    pH  sulphates  \\\n",
       "0                 11.0                  34.0   0.9978  3.51       0.56   \n",
       "1                 25.0                  67.0   0.9968  3.20       0.68   \n",
       "2                 15.0                  54.0   0.9970  3.26       0.65   \n",
       "3                 17.0                  60.0   0.9980  3.16       0.58   \n",
       "4                 11.0                  34.0   0.9978  3.51       0.56   \n",
       "\n",
       "   alcohol  quality  winetype  \n",
       "0      9.4        5         1  \n",
       "1      9.8        5         1  \n",
       "2      9.8        5         1  \n",
       "3      9.8        6         1  \n",
       "4      9.4        5         1  "
      ]
     },
     "execution_count": 58,
     "metadata": {},
     "output_type": "execute_result"
    }
   ],
   "source": [
    "# Upload wine datasets\n",
    "\n",
    "df_red = pd.read_csv(\"https://archive.ics.uci.edu/ml/machine-learning-databases/wine-quality/winequality-red.csv\", sep= ';')\n",
    "df_white = pd.read_csv(\"https://archive.ics.uci.edu/ml/machine-learning-databases/wine-quality/winequality-white.csv\", sep= ';')\n",
    "df_red['winetype'] = 1\n",
    "df_white['winetype'] = 0\n",
    "df_red.head()"
   ]
  },
  {
   "cell_type": "code",
   "execution_count": 59,
   "metadata": {
    "colab": {
     "base_uri": "https://localhost:8080/",
     "height": 221
    },
    "id": "mseQMJReLjAJ",
    "outputId": "1c6423dd-6254-4fb6-eda6-34fe79eb7996"
   },
   "outputs": [
    {
     "data": {
      "text/html": [
       "<div>\n",
       "<style scoped>\n",
       "    .dataframe tbody tr th:only-of-type {\n",
       "        vertical-align: middle;\n",
       "    }\n",
       "\n",
       "    .dataframe tbody tr th {\n",
       "        vertical-align: top;\n",
       "    }\n",
       "\n",
       "    .dataframe thead th {\n",
       "        text-align: right;\n",
       "    }\n",
       "</style>\n",
       "<table border=\"1\" class=\"dataframe\">\n",
       "  <thead>\n",
       "    <tr style=\"text-align: right;\">\n",
       "      <th></th>\n",
       "      <th>fixed acidity</th>\n",
       "      <th>volatile acidity</th>\n",
       "      <th>citric acid</th>\n",
       "      <th>residual sugar</th>\n",
       "      <th>chlorides</th>\n",
       "      <th>free sulfur dioxide</th>\n",
       "      <th>total sulfur dioxide</th>\n",
       "      <th>density</th>\n",
       "      <th>pH</th>\n",
       "      <th>sulphates</th>\n",
       "      <th>alcohol</th>\n",
       "      <th>quality</th>\n",
       "      <th>winetype</th>\n",
       "    </tr>\n",
       "  </thead>\n",
       "  <tbody>\n",
       "    <tr>\n",
       "      <th>0</th>\n",
       "      <td>7.0</td>\n",
       "      <td>0.27</td>\n",
       "      <td>0.36</td>\n",
       "      <td>20.7</td>\n",
       "      <td>0.045</td>\n",
       "      <td>45.0</td>\n",
       "      <td>170.0</td>\n",
       "      <td>1.0010</td>\n",
       "      <td>3.00</td>\n",
       "      <td>0.45</td>\n",
       "      <td>8.8</td>\n",
       "      <td>6</td>\n",
       "      <td>0</td>\n",
       "    </tr>\n",
       "    <tr>\n",
       "      <th>1</th>\n",
       "      <td>6.3</td>\n",
       "      <td>0.30</td>\n",
       "      <td>0.34</td>\n",
       "      <td>1.6</td>\n",
       "      <td>0.049</td>\n",
       "      <td>14.0</td>\n",
       "      <td>132.0</td>\n",
       "      <td>0.9940</td>\n",
       "      <td>3.30</td>\n",
       "      <td>0.49</td>\n",
       "      <td>9.5</td>\n",
       "      <td>6</td>\n",
       "      <td>0</td>\n",
       "    </tr>\n",
       "    <tr>\n",
       "      <th>2</th>\n",
       "      <td>8.1</td>\n",
       "      <td>0.28</td>\n",
       "      <td>0.40</td>\n",
       "      <td>6.9</td>\n",
       "      <td>0.050</td>\n",
       "      <td>30.0</td>\n",
       "      <td>97.0</td>\n",
       "      <td>0.9951</td>\n",
       "      <td>3.26</td>\n",
       "      <td>0.44</td>\n",
       "      <td>10.1</td>\n",
       "      <td>6</td>\n",
       "      <td>0</td>\n",
       "    </tr>\n",
       "    <tr>\n",
       "      <th>3</th>\n",
       "      <td>7.2</td>\n",
       "      <td>0.23</td>\n",
       "      <td>0.32</td>\n",
       "      <td>8.5</td>\n",
       "      <td>0.058</td>\n",
       "      <td>47.0</td>\n",
       "      <td>186.0</td>\n",
       "      <td>0.9956</td>\n",
       "      <td>3.19</td>\n",
       "      <td>0.40</td>\n",
       "      <td>9.9</td>\n",
       "      <td>6</td>\n",
       "      <td>0</td>\n",
       "    </tr>\n",
       "    <tr>\n",
       "      <th>4</th>\n",
       "      <td>7.2</td>\n",
       "      <td>0.23</td>\n",
       "      <td>0.32</td>\n",
       "      <td>8.5</td>\n",
       "      <td>0.058</td>\n",
       "      <td>47.0</td>\n",
       "      <td>186.0</td>\n",
       "      <td>0.9956</td>\n",
       "      <td>3.19</td>\n",
       "      <td>0.40</td>\n",
       "      <td>9.9</td>\n",
       "      <td>6</td>\n",
       "      <td>0</td>\n",
       "    </tr>\n",
       "  </tbody>\n",
       "</table>\n",
       "</div>"
      ],
      "text/plain": [
       "   fixed acidity  volatile acidity  citric acid  residual sugar  chlorides  \\\n",
       "0            7.0              0.27         0.36            20.7      0.045   \n",
       "1            6.3              0.30         0.34             1.6      0.049   \n",
       "2            8.1              0.28         0.40             6.9      0.050   \n",
       "3            7.2              0.23         0.32             8.5      0.058   \n",
       "4            7.2              0.23         0.32             8.5      0.058   \n",
       "\n",
       "   free sulfur dioxide  total sulfur dioxide  density    pH  sulphates  \\\n",
       "0                 45.0                 170.0   1.0010  3.00       0.45   \n",
       "1                 14.0                 132.0   0.9940  3.30       0.49   \n",
       "2                 30.0                  97.0   0.9951  3.26       0.44   \n",
       "3                 47.0                 186.0   0.9956  3.19       0.40   \n",
       "4                 47.0                 186.0   0.9956  3.19       0.40   \n",
       "\n",
       "   alcohol  quality  winetype  \n",
       "0      8.8        6         0  \n",
       "1      9.5        6         0  \n",
       "2     10.1        6         0  \n",
       "3      9.9        6         0  \n",
       "4      9.9        6         0  "
      ]
     },
     "execution_count": 59,
     "metadata": {},
     "output_type": "execute_result"
    }
   ],
   "source": [
    "df_white.head()"
   ]
  },
  {
   "cell_type": "code",
   "execution_count": 60,
   "metadata": {
    "colab": {
     "base_uri": "https://localhost:8080/"
    },
    "id": "RC2mBOc2MPf1",
    "outputId": "5c7b22c8-36ec-48c3-8550-20884cc06ecd"
   },
   "outputs": [
    {
     "data": {
      "text/plain": [
       "(4898, 13)"
      ]
     },
     "execution_count": 60,
     "metadata": {},
     "output_type": "execute_result"
    }
   ],
   "source": [
    "df_white.shape"
   ]
  },
  {
   "cell_type": "code",
   "execution_count": 61,
   "metadata": {
    "colab": {
     "base_uri": "https://localhost:8080/"
    },
    "id": "6h7GhfMlMDL4",
    "outputId": "e9d6682a-43d4-49bc-b369-875fde4d53e4"
   },
   "outputs": [
    {
     "data": {
      "text/plain": [
       "(6497, 13)"
      ]
     },
     "execution_count": 61,
     "metadata": {},
     "output_type": "execute_result"
    }
   ],
   "source": [
    "# Merge two datasets into one\n",
    "\n",
    "df_wine = pd.concat([df_red,df_white])\n",
    "df_wine.shape"
   ]
  },
  {
   "cell_type": "code",
   "execution_count": 62,
   "metadata": {
    "colab": {
     "base_uri": "https://localhost:8080/",
     "height": 221
    },
    "id": "-7Sh9aMoMVgD",
    "outputId": "f66047c1-8077-4cb8-929c-637914026d73"
   },
   "outputs": [
    {
     "data": {
      "text/html": [
       "<div>\n",
       "<style scoped>\n",
       "    .dataframe tbody tr th:only-of-type {\n",
       "        vertical-align: middle;\n",
       "    }\n",
       "\n",
       "    .dataframe tbody tr th {\n",
       "        vertical-align: top;\n",
       "    }\n",
       "\n",
       "    .dataframe thead th {\n",
       "        text-align: right;\n",
       "    }\n",
       "</style>\n",
       "<table border=\"1\" class=\"dataframe\">\n",
       "  <thead>\n",
       "    <tr style=\"text-align: right;\">\n",
       "      <th></th>\n",
       "      <th>fixed acidity</th>\n",
       "      <th>volatile acidity</th>\n",
       "      <th>citric acid</th>\n",
       "      <th>residual sugar</th>\n",
       "      <th>chlorides</th>\n",
       "      <th>free sulfur dioxide</th>\n",
       "      <th>total sulfur dioxide</th>\n",
       "      <th>density</th>\n",
       "      <th>pH</th>\n",
       "      <th>sulphates</th>\n",
       "      <th>alcohol</th>\n",
       "      <th>quality</th>\n",
       "      <th>winetype</th>\n",
       "    </tr>\n",
       "  </thead>\n",
       "  <tbody>\n",
       "    <tr>\n",
       "      <th>0</th>\n",
       "      <td>7.4</td>\n",
       "      <td>0.70</td>\n",
       "      <td>0.00</td>\n",
       "      <td>1.9</td>\n",
       "      <td>0.076</td>\n",
       "      <td>11.0</td>\n",
       "      <td>34.0</td>\n",
       "      <td>0.9978</td>\n",
       "      <td>3.51</td>\n",
       "      <td>0.56</td>\n",
       "      <td>9.4</td>\n",
       "      <td>5</td>\n",
       "      <td>1</td>\n",
       "    </tr>\n",
       "    <tr>\n",
       "      <th>1</th>\n",
       "      <td>7.8</td>\n",
       "      <td>0.88</td>\n",
       "      <td>0.00</td>\n",
       "      <td>2.6</td>\n",
       "      <td>0.098</td>\n",
       "      <td>25.0</td>\n",
       "      <td>67.0</td>\n",
       "      <td>0.9968</td>\n",
       "      <td>3.20</td>\n",
       "      <td>0.68</td>\n",
       "      <td>9.8</td>\n",
       "      <td>5</td>\n",
       "      <td>1</td>\n",
       "    </tr>\n",
       "    <tr>\n",
       "      <th>2</th>\n",
       "      <td>7.8</td>\n",
       "      <td>0.76</td>\n",
       "      <td>0.04</td>\n",
       "      <td>2.3</td>\n",
       "      <td>0.092</td>\n",
       "      <td>15.0</td>\n",
       "      <td>54.0</td>\n",
       "      <td>0.9970</td>\n",
       "      <td>3.26</td>\n",
       "      <td>0.65</td>\n",
       "      <td>9.8</td>\n",
       "      <td>5</td>\n",
       "      <td>1</td>\n",
       "    </tr>\n",
       "    <tr>\n",
       "      <th>3</th>\n",
       "      <td>11.2</td>\n",
       "      <td>0.28</td>\n",
       "      <td>0.56</td>\n",
       "      <td>1.9</td>\n",
       "      <td>0.075</td>\n",
       "      <td>17.0</td>\n",
       "      <td>60.0</td>\n",
       "      <td>0.9980</td>\n",
       "      <td>3.16</td>\n",
       "      <td>0.58</td>\n",
       "      <td>9.8</td>\n",
       "      <td>6</td>\n",
       "      <td>1</td>\n",
       "    </tr>\n",
       "    <tr>\n",
       "      <th>4</th>\n",
       "      <td>7.4</td>\n",
       "      <td>0.70</td>\n",
       "      <td>0.00</td>\n",
       "      <td>1.9</td>\n",
       "      <td>0.076</td>\n",
       "      <td>11.0</td>\n",
       "      <td>34.0</td>\n",
       "      <td>0.9978</td>\n",
       "      <td>3.51</td>\n",
       "      <td>0.56</td>\n",
       "      <td>9.4</td>\n",
       "      <td>5</td>\n",
       "      <td>1</td>\n",
       "    </tr>\n",
       "  </tbody>\n",
       "</table>\n",
       "</div>"
      ],
      "text/plain": [
       "   fixed acidity  volatile acidity  citric acid  residual sugar  chlorides  \\\n",
       "0            7.4              0.70         0.00             1.9      0.076   \n",
       "1            7.8              0.88         0.00             2.6      0.098   \n",
       "2            7.8              0.76         0.04             2.3      0.092   \n",
       "3           11.2              0.28         0.56             1.9      0.075   \n",
       "4            7.4              0.70         0.00             1.9      0.076   \n",
       "\n",
       "   free sulfur dioxide  total sulfur dioxide  density    pH  sulphates  \\\n",
       "0                 11.0                  34.0   0.9978  3.51       0.56   \n",
       "1                 25.0                  67.0   0.9968  3.20       0.68   \n",
       "2                 15.0                  54.0   0.9970  3.26       0.65   \n",
       "3                 17.0                  60.0   0.9980  3.16       0.58   \n",
       "4                 11.0                  34.0   0.9978  3.51       0.56   \n",
       "\n",
       "   alcohol  quality  winetype  \n",
       "0      9.4        5         1  \n",
       "1      9.8        5         1  \n",
       "2      9.8        5         1  \n",
       "3      9.8        6         1  \n",
       "4      9.4        5         1  "
      ]
     },
     "execution_count": 62,
     "metadata": {},
     "output_type": "execute_result"
    }
   ],
   "source": [
    "df_wine.head()"
   ]
  },
  {
   "cell_type": "markdown",
   "metadata": {
    "id": "JpELr5yrKSgH"
   },
   "source": [
    "## 2.1 Visualize the univariate distribution of the target feature and each of the three explanatory variables that you think are likely to have a relationship with the target feature.   "
   ]
  },
  {
   "cell_type": "code",
   "execution_count": 63,
   "metadata": {
    "colab": {
     "base_uri": "https://localhost:8080/"
    },
    "id": "vwAiES0DKY_Y",
    "outputId": "d1717632-5279-46eb-f584-3fdd5cb0737b"
   },
   "outputs": [
    {
     "name": "stdout",
     "output_type": "stream",
     "text": [
      "<class 'pandas.core.frame.DataFrame'>\n",
      "Int64Index: 6497 entries, 0 to 4897\n",
      "Data columns (total 13 columns):\n",
      " #   Column                Non-Null Count  Dtype  \n",
      "---  ------                --------------  -----  \n",
      " 0   fixed acidity         6497 non-null   float64\n",
      " 1   volatile acidity      6497 non-null   float64\n",
      " 2   citric acid           6497 non-null   float64\n",
      " 3   residual sugar        6497 non-null   float64\n",
      " 4   chlorides             6497 non-null   float64\n",
      " 5   free sulfur dioxide   6497 non-null   float64\n",
      " 6   total sulfur dioxide  6497 non-null   float64\n",
      " 7   density               6497 non-null   float64\n",
      " 8   pH                    6497 non-null   float64\n",
      " 9   sulphates             6497 non-null   float64\n",
      " 10  alcohol               6497 non-null   float64\n",
      " 11  quality               6497 non-null   int64  \n",
      " 12  winetype              6497 non-null   int64  \n",
      "dtypes: float64(11), int64(2)\n",
      "memory usage: 710.6 KB\n"
     ]
    }
   ],
   "source": [
    "# target is wine type\n",
    "# view the dtype of data\n",
    "df_wine.info()"
   ]
  },
  {
   "cell_type": "code",
   "execution_count": 64,
   "metadata": {
    "colab": {
     "base_uri": "https://localhost:8080/",
     "height": 312
    },
    "id": "l9LgaexRNZw5",
    "outputId": "325107d4-4613-4075-f081-1fad46192df0"
   },
   "outputs": [
    {
     "data": {
      "text/plain": [
       "Text(0.5, 1.0, 'Volatile acidity in different types of wines')"
      ]
     },
     "execution_count": 64,
     "metadata": {},
     "output_type": "execute_result"
    },
    {
     "data": {
      "image/png": "[encoded data removed]",
      "text/plain": [
       "<Figure size 432x288 with 1 Axes>"
      ]
     },
     "metadata": {
      "needs_background": "light"
     },
     "output_type": "display_data"
    }
   ],
   "source": [
    "sns.boxplot(x='winetype', y='volatile acidity', data=df_wine,linewidth=2.5,labels = ['winetype'])\n",
    "plt.title('Volatile acidity in different types of wines')\n",
    "# left (0) is white\n",
    "# right (1) is white"
   ]
  },
  {
   "cell_type": "code",
   "execution_count": 65,
   "metadata": {
    "colab": {
     "base_uri": "https://localhost:8080/",
     "height": 312
    },
    "id": "hcd7ajEWi3lh",
    "outputId": "a637500b-235b-48f7-8536-3b88e5128667"
   },
   "outputs": [
    {
     "data": {
      "text/plain": [
       "Text(0.5, 1.0, 'Free sulfur dioxide in different types of wines')"
      ]
     },
     "execution_count": 65,
     "metadata": {},
     "output_type": "execute_result"
    },
    {
     "data": {
      "image/png": "[encoded data removed]",
      "text/plain": [
       "<Figure size 432x288 with 1 Axes>"
      ]
     },
     "metadata": {
      "needs_background": "light"
     },
     "output_type": "display_data"
    }
   ],
   "source": [
    "sns.boxplot(x='winetype', y='free sulfur dioxide', data=df_wine,linewidth=2.5,labels = ['winetype'])\n",
    "plt.title('Free sulfur dioxide in different types of wines')\n",
    "# left (0) is white\n",
    "# right (1) is white"
   ]
  },
  {
   "cell_type": "code",
   "execution_count": 66,
   "metadata": {
    "colab": {
     "base_uri": "https://localhost:8080/",
     "height": 312
    },
    "id": "VcFbTCLGi8Me",
    "outputId": "6aeda36c-5cc6-4077-c1d6-109b7ccf89e9"
   },
   "outputs": [
    {
     "data": {
      "text/plain": [
       "Text(0.5, 1.0, 'PH in different types of wines')"
      ]
     },
     "execution_count": 66,
     "metadata": {},
     "output_type": "execute_result"
    },
    {
     "data": {
      "image/png": "[encoded data removed]",
      "text/plain": [
       "<Figure size 432x288 with 1 Axes>"
      ]
     },
     "metadata": {
      "needs_background": "light"
     },
     "output_type": "display_data"
    }
   ],
   "source": [
    "sns.boxplot(x='winetype', y='pH', data=df_wine,linewidth=2.5,labels = ['winetype'])\n",
    "plt.title('PH in different types of wines')\n",
    "# left (0) is white\n",
    "# right (1) is white"
   ]
  },
  {
   "cell_type": "markdown",
   "metadata": {
    "id": "jtwfhceQjEM2"
   },
   "source": [
    "## 2.2 Split data into training and test set. Build models that evaluate the relationship between all available X variables in the dataset and the target variable. Evaluate Logistic Regression, Penalized Logistic Regression, and KNN for classification using cross-validation. How different are the results? How does scaling the data with StandardScaler influence the results?"
   ]
  },
  {
   "cell_type": "code",
   "execution_count": 67,
   "metadata": {
    "colab": {
     "base_uri": "https://localhost:8080/",
     "height": 221
    },
    "id": "I_RAlRcfjFtL",
    "outputId": "b076cbe0-151d-4517-eeb4-effaa622c3ed"
   },
   "outputs": [
    {
     "data": {
      "text/html": [
       "<div>\n",
       "<style scoped>\n",
       "    .dataframe tbody tr th:only-of-type {\n",
       "        vertical-align: middle;\n",
       "    }\n",
       "\n",
       "    .dataframe tbody tr th {\n",
       "        vertical-align: top;\n",
       "    }\n",
       "\n",
       "    .dataframe thead th {\n",
       "        text-align: right;\n",
       "    }\n",
       "</style>\n",
       "<table border=\"1\" class=\"dataframe\">\n",
       "  <thead>\n",
       "    <tr style=\"text-align: right;\">\n",
       "      <th></th>\n",
       "      <th>fixed acidity</th>\n",
       "      <th>volatile acidity</th>\n",
       "      <th>citric acid</th>\n",
       "      <th>residual sugar</th>\n",
       "      <th>chlorides</th>\n",
       "      <th>free sulfur dioxide</th>\n",
       "      <th>total sulfur dioxide</th>\n",
       "      <th>density</th>\n",
       "      <th>pH</th>\n",
       "      <th>sulphates</th>\n",
       "      <th>alcohol</th>\n",
       "      <th>quality</th>\n",
       "    </tr>\n",
       "  </thead>\n",
       "  <tbody>\n",
       "    <tr>\n",
       "      <th>0</th>\n",
       "      <td>7.4</td>\n",
       "      <td>0.70</td>\n",
       "      <td>0.00</td>\n",
       "      <td>1.9</td>\n",
       "      <td>0.076</td>\n",
       "      <td>11.0</td>\n",
       "      <td>34.0</td>\n",
       "      <td>0.9978</td>\n",
       "      <td>3.51</td>\n",
       "      <td>0.56</td>\n",
       "      <td>9.4</td>\n",
       "      <td>5</td>\n",
       "    </tr>\n",
       "    <tr>\n",
       "      <th>1</th>\n",
       "      <td>7.8</td>\n",
       "      <td>0.88</td>\n",
       "      <td>0.00</td>\n",
       "      <td>2.6</td>\n",
       "      <td>0.098</td>\n",
       "      <td>25.0</td>\n",
       "      <td>67.0</td>\n",
       "      <td>0.9968</td>\n",
       "      <td>3.20</td>\n",
       "      <td>0.68</td>\n",
       "      <td>9.8</td>\n",
       "      <td>5</td>\n",
       "    </tr>\n",
       "    <tr>\n",
       "      <th>2</th>\n",
       "      <td>7.8</td>\n",
       "      <td>0.76</td>\n",
       "      <td>0.04</td>\n",
       "      <td>2.3</td>\n",
       "      <td>0.092</td>\n",
       "      <td>15.0</td>\n",
       "      <td>54.0</td>\n",
       "      <td>0.9970</td>\n",
       "      <td>3.26</td>\n",
       "      <td>0.65</td>\n",
       "      <td>9.8</td>\n",
       "      <td>5</td>\n",
       "    </tr>\n",
       "    <tr>\n",
       "      <th>3</th>\n",
       "      <td>11.2</td>\n",
       "      <td>0.28</td>\n",
       "      <td>0.56</td>\n",
       "      <td>1.9</td>\n",
       "      <td>0.075</td>\n",
       "      <td>17.0</td>\n",
       "      <td>60.0</td>\n",
       "      <td>0.9980</td>\n",
       "      <td>3.16</td>\n",
       "      <td>0.58</td>\n",
       "      <td>9.8</td>\n",
       "      <td>6</td>\n",
       "    </tr>\n",
       "    <tr>\n",
       "      <th>4</th>\n",
       "      <td>7.4</td>\n",
       "      <td>0.70</td>\n",
       "      <td>0.00</td>\n",
       "      <td>1.9</td>\n",
       "      <td>0.076</td>\n",
       "      <td>11.0</td>\n",
       "      <td>34.0</td>\n",
       "      <td>0.9978</td>\n",
       "      <td>3.51</td>\n",
       "      <td>0.56</td>\n",
       "      <td>9.4</td>\n",
       "      <td>5</td>\n",
       "    </tr>\n",
       "  </tbody>\n",
       "</table>\n",
       "</div>"
      ],
      "text/plain": [
       "   fixed acidity  volatile acidity  citric acid  residual sugar  chlorides  \\\n",
       "0            7.4              0.70         0.00             1.9      0.076   \n",
       "1            7.8              0.88         0.00             2.6      0.098   \n",
       "2            7.8              0.76         0.04             2.3      0.092   \n",
       "3           11.2              0.28         0.56             1.9      0.075   \n",
       "4            7.4              0.70         0.00             1.9      0.076   \n",
       "\n",
       "   free sulfur dioxide  total sulfur dioxide  density    pH  sulphates  \\\n",
       "0                 11.0                  34.0   0.9978  3.51       0.56   \n",
       "1                 25.0                  67.0   0.9968  3.20       0.68   \n",
       "2                 15.0                  54.0   0.9970  3.26       0.65   \n",
       "3                 17.0                  60.0   0.9980  3.16       0.58   \n",
       "4                 11.0                  34.0   0.9978  3.51       0.56   \n",
       "\n",
       "   alcohol  quality  \n",
       "0      9.4        5  \n",
       "1      9.8        5  \n",
       "2      9.8        5  \n",
       "3      9.8        6  \n",
       "4      9.4        5  "
      ]
     },
     "execution_count": 67,
     "metadata": {},
     "output_type": "execute_result"
    }
   ],
   "source": [
    "# Split data in training and test set\n",
    "\n",
    "y = df_wine['winetype']\n",
    "X = df_wine.loc[:, df_wine.columns != 'winetype']\n",
    "X_train, X_test, y_train, y_test = train_test_split(X, y, random_state=42) \n",
    "\n",
    "X.head()"
   ]
  },
  {
   "cell_type": "markdown",
   "metadata": {
    "id": "lDCj9stJmZz4"
   },
   "source": [
    "### Unscaled:"
   ]
  },
  {
   "cell_type": "markdown",
   "metadata": {
    "id": "yB7omZhXjgbW"
   },
   "source": [
    "### Logistic Regression & cross-validation"
   ]
  },
  {
   "cell_type": "code",
   "execution_count": 68,
   "metadata": {
    "colab": {
     "base_uri": "https://localhost:8080/"
    },
    "id": "QLu4i3UKjf3s",
    "outputId": "7cdcc6bd-7345-4348-dd16-6564dd6d0414"
   },
   "outputs": [
    {
     "name": "stdout",
     "output_type": "stream",
     "text": [
      "Training dataset score: 0.982\n",
      "Test dataset score: 0.975\n",
      "K-Fold:\n",
      "[0.97435897 0.98461538 0.98870637 0.97741273 0.9835729 ]\n",
      "Mean of K-Fold:\n",
      "0.9817332701521613\n"
     ]
    }
   ],
   "source": [
    "logreg = LogisticRegression(C=1e90).fit(X_train, y_train)\n",
    "\n",
    "# Print(\"logreg .coef_: {}\".format(logreg .coef_))\n",
    "\n",
    "print(\"Training dataset score: {:.3f}\".format(logreg.score(X_train, y_train)))\n",
    "print(\"Test dataset score: {:.3f}\".format(logreg.score(X_test, y_test)))\n",
    "print(\"K-Fold:\\n{}\".format(cross_val_score(logreg, X_train,y_train, cv=kfold)))\n",
    "print(\"Mean of K-Fold:\\n{}\".format(np.mean(cross_val_score(logreg, X_train, y_train, cv=kfold))))\n"
   ]
  },
  {
   "cell_type": "markdown",
   "metadata": {
    "id": "VqHoKk-MlDss"
   },
   "source": [
    "### Penalized Logistic Regression & cross-validation"
   ]
  },
  {
   "cell_type": "code",
   "execution_count": 69,
   "metadata": {
    "colab": {
     "base_uri": "https://localhost:8080/"
    },
    "id": "4IYFaJDKlDFX",
    "outputId": "05cd6fd2-40fb-4f88-b6c2-f77ec136cdc5"
   },
   "outputs": [
    {
     "name": "stdout",
     "output_type": "stream",
     "text": [
      "Training dataset score: 0.986\n",
      "Test dataset score: 0.980\n",
      "K-Fold:\n",
      "[0.98153846 0.99076923 0.99075975 0.98151951 0.98665298]\n",
      "Mean of K-Fold:\n",
      "0.9862479861001422\n"
     ]
    }
   ],
   "source": [
    "logreg_pen = LogisticRegression(C=5,penalty = 'l2',solver = 'liblinear').fit(X_train, y_train)\n",
    "\n",
    "# Print(\"logreg_pen .coef_: {}\".format(logreg_pen .coef_))\n",
    "\n",
    "print(\"Training dataset score: {:.3f}\".format(logreg_pen.score(X_train, y_train)))\n",
    "print(\"Test dataset score: {:.3f}\".format(logreg_pen.score(X_test, y_test)))\n",
    "print(\"K-Fold:\\n{}\".format(cross_val_score(logreg_pen, X_train,y_train, cv=kfold)))\n",
    "print(\"Mean of K-Fold:\\n{}\".format(np.mean(cross_val_score(logreg_pen, X_train, y_train, cv=kfold))))\n"
   ]
  },
  {
   "cell_type": "markdown",
   "metadata": {
    "id": "-4hmVg-nlwLe"
   },
   "source": [
    "### KNN classification & cross-validation"
   ]
  },
  {
   "cell_type": "code",
   "execution_count": 70,
   "metadata": {
    "colab": {
     "base_uri": "https://localhost:8080/"
    },
    "id": "sCaMEbaEk5lO",
    "outputId": "09b49abd-cfa2-453b-bb1c-0ecb06e4331c"
   },
   "outputs": [
    {
     "name": "stdout",
     "output_type": "stream",
     "text": [
      "Training dataset score: 0.957\n",
      "Test dataset score: 0.938\n",
      "K-Fold:\n",
      "[0.93948718 0.9425641  0.95379877 0.92607803 0.94661191]\n",
      "Mean K-Fold:\n",
      "0.941707997683357\n"
     ]
    }
   ],
   "source": [
    "knn_classifer = KNeighborsClassifier().fit(X_train, y_train)\n",
    "\n",
    "print(\"Training dataset score: {:.3f}\".format(knn_classifer.score(X_train, y_train)))\n",
    "print(\"Test dataset score: {:.3f}\".format(knn_classifer.score(X_test, y_test)))\n",
    "print(\"K-Fold:\\n{}\".format(cross_val_score(knn_classifer, X_train,y_train, cv=kfold)))\n",
    "print(\"Mean K-Fold:\\n{}\".format(np.mean(cross_val_score(knn_classifer, X_train, y_train, cv=kfold))))\n"
   ]
  },
  {
   "cell_type": "markdown",
   "metadata": {
    "id": "_maR4LERm82F"
   },
   "source": [
    "### How different is the result:\n",
    "\n",
    "Logistic Regression (98.1%) and Penalized Logistic Regression (L1, accuracy: 98.6%) have higher accuracy than the KNN classifier (94.2%) when using k-fold (default) cross validation method. "
   ]
  },
  {
   "cell_type": "markdown",
   "metadata": {
    "id": "gQOzK1E3mV9C"
   },
   "source": [
    "### Scaled Data:"
   ]
  },
  {
   "cell_type": "code",
   "execution_count": 71,
   "metadata": {
    "id": "qXCa6Waxns3z"
   },
   "outputs": [],
   "source": [
    "# Scale X data\n",
    "\n",
    "scaler = StandardScaler().fit(X_train)\n",
    "X_train_scaled_q2 = scaler.transform(X_train)   \n",
    "X_test_scaled_q2 = scaler.transform(X_test) "
   ]
  },
  {
   "cell_type": "markdown",
   "metadata": {
    "id": "MP-8FBcIoPw7"
   },
   "source": [
    "### Logistic Regression & Scaled Data"
   ]
  },
  {
   "cell_type": "code",
   "execution_count": 72,
   "metadata": {
    "colab": {
     "base_uri": "https://localhost:8080/"
    },
    "id": "5vnfQVP3oP66",
    "outputId": "33b2f5c4-2c50-4791-9de9-98047d174b3d"
   },
   "outputs": [
    {
     "name": "stdout",
     "output_type": "stream",
     "text": [
      "Training dataset has score: 0.994\n",
      "Test dataset score: 0.991\n",
      "K-Fold:\n",
      "[0.98974359 0.99589744 0.99486653 0.99486653 0.99589322]\n",
      "Mean of K-Fold:\n",
      "0.9942534618017163\n"
     ]
    }
   ],
   "source": [
    "\n",
    "logreg = LogisticRegression(C=1e90).fit(X_train_scaled_q2, y_train)\n",
    "\n",
    "#print(\"logreg .coef_: {}\".format(logreg .coef_))\n",
    "print(\"Training dataset score: {:.3f}\".format(logreg.score(X_train_scaled_q2, y_train)))\n",
    "print(\"Test dataset score: {:.3f}\".format(logreg.score(X_test_scaled_q2, y_test)))\n",
    "print(\"K-Fold:\\n{}\".format(cross_val_score(logreg, X_train_scaled_q2,y_train, cv=kfold)))\n",
    "print(\"Mean of K-Fold:\\n{}\".format(np.mean(cross_val_score(logreg, X_train_scaled_q2, y_train, cv=kfold))))\n"
   ]
  },
  {
   "cell_type": "markdown",
   "metadata": {
    "id": "3dLyZs3rpaCp"
   },
   "source": [
    "### Standardization Improved the result"
   ]
  },
  {
   "cell_type": "markdown",
   "metadata": {
    "id": "xKpyQnQ0oiuV"
   },
   "source": [
    "## Penalized Logistic Regression & Scaled Data"
   ]
  },
  {
   "cell_type": "code",
   "execution_count": 73,
   "metadata": {
    "colab": {
     "base_uri": "https://localhost:8080/"
    },
    "id": "49t41eqmopVo",
    "outputId": "9f2bc297-0569-4044-bf65-582cf72a2417"
   },
   "outputs": [
    {
     "name": "stdout",
     "output_type": "stream",
     "text": [
      "Training dataset score: 0.994\n",
      "Test dataset score: 0.991\n",
      "K-Fold:\n",
      "[0.98974359 0.99589744 0.99589322 0.99486653 0.99589322]\n",
      "Mean of K-Fold:\n",
      "0.9944588006107512\n"
     ]
    }
   ],
   "source": [
    "logreg_pen = LogisticRegression(C=5,penalty = 'l2',solver = 'liblinear').fit(X_train_scaled_q2, y_train)\n",
    "\n",
    "#Print(\"logreg_pen .coef_: {}\".format(logreg_pen .coef_))\n",
    "\n",
    "print(\"Training dataset score: {:.3f}\".format(logreg_pen.score(X_train_scaled_q2, y_train)))\n",
    "print(\"Test dataset score: {:.3f}\".format(logreg_pen.score(X_test_scaled_q2, y_test)))\n",
    "print(\"K-Fold:\\n{}\".format(cross_val_score(logreg_pen, X_train_scaled_q2,y_train, cv=kfold)))\n",
    "print(\"Mean of K-Fold:\\n{}\".format(np.mean(cross_val_score(logreg_pen, X_train_scaled_q2, y_train, cv=kfold))))\n"
   ]
  },
  {
   "cell_type": "markdown",
   "metadata": {
    "id": "fR7tL4PVpjD8"
   },
   "source": [
    "### Standardization Improved the result slightly"
   ]
  },
  {
   "cell_type": "markdown",
   "metadata": {
    "id": "kmSTKTT2pAe9"
   },
   "source": [
    "### KNN Classification & Scaled Data"
   ]
  },
  {
   "cell_type": "code",
   "execution_count": 74,
   "metadata": {
    "colab": {
     "base_uri": "https://localhost:8080/"
    },
    "id": "cGWuvDy3pHHp",
    "outputId": "b663e2cd-fb1a-4f6a-8181-241e38c4db6c"
   },
   "outputs": [
    {
     "name": "stdout",
     "output_type": "stream",
     "text": [
      "Training dataset score: 0.995\n",
      "Test dataset score: 0.989\n",
      "K-Fold:\n",
      "[0.99076923 0.99589744 0.99281314 0.98767967 0.99383984]\n",
      "Mean K-Fold:\n",
      "0.9921998631074607\n"
     ]
    }
   ],
   "source": [
    "knn_classifer = KNeighborsClassifier().fit(X_train_scaled_q2, y_train)\n",
    "\n",
    "print(\"Training dataset score: {:.3f}\".format(knn_classifer.score(X_train_scaled_q2, y_train)))\n",
    "print(\"Test dataset score: {:.3f}\".format(knn_classifer.score(X_test_scaled_q2, y_test)))\n",
    "print(\"K-Fold:\\n{}\".format(cross_val_score(knn_classifer, X_train_scaled_q2,y_train, cv=kfold)))\n",
    "print(\"Mean K-Fold:\\n{}\".format(np.mean(cross_val_score(knn_classifer, X_train_scaled_q2, y_train, cv=kfold))))\n"
   ]
  },
  {
   "cell_type": "markdown",
   "metadata": {
    "id": "18-0UsNhpkH-"
   },
   "source": [
    "### Standardization Improved the result"
   ]
  },
  {
   "cell_type": "markdown",
   "metadata": {
    "id": "fBgK_HXypybl"
   },
   "source": [
    "# 2.3 Tune the parameters where possible using GridSearchCV. Do the results improve?"
   ]
  },
  {
   "cell_type": "markdown",
   "metadata": {
    "id": "jR8fpU2mqsMs"
   },
   "source": [
    "### Logistic Regression"
   ]
  },
  {
   "cell_type": "code",
   "execution_count": 75,
   "metadata": {
    "colab": {
     "base_uri": "https://localhost:8080/"
    },
    "id": "cFBp3vfiszO_",
    "outputId": "e77416cc-9b6f-4b78-d7ac-4c0c73956305"
   },
   "outputs": [
    {
     "name": "stdout",
     "output_type": "stream",
     "text": [
      "The best parameter is: \n",
      "{'logisticregression__C': 10.0}\n",
      "The best parameter provides test score: \n",
      "0.9914\n"
     ]
    }
   ],
   "source": [
    "logreg_pipe = make_pipeline(StandardScaler(), LogisticRegression())\n",
    "logreg_param_grid = {'logisticregression__C': np.logspace(-3, 3, 10)}\n",
    "\n",
    "logreg_grid = GridSearchCV(logreg_pipe, logreg_param_grid).fit(X_train_scaled_q2, y_train)\n",
    "\n",
    "\n",
    "print(\"The best parameter is: \\n{}\".format(logreg_grid.best_params_))\n",
    "print(\"The best parameter provides test score: \\n{:.4f}\".format(logreg_grid.score(X_test_scaled_q2, y_test)))"
   ]
  },
  {
   "cell_type": "markdown",
   "metadata": {
    "id": "e9K00ZDRxigh"
   },
   "source": [
    "Compared to above, did not improve the accuracy (similar)"
   ]
  },
  {
   "cell_type": "markdown",
   "metadata": {
    "id": "6XjIvaChxGMP"
   },
   "source": [
    "Penalized Logistic Regression"
   ]
  },
  {
   "cell_type": "code",
   "execution_count": 76,
   "metadata": {
    "colab": {
     "base_uri": "https://localhost:8080/"
    },
    "id": "JNWV8ooTp10s",
    "outputId": "5623e3fa-fd3c-49b5-a917-27912e588666"
   },
   "outputs": [
    {
     "name": "stdout",
     "output_type": "stream",
     "text": [
      "The best parameter is: \n",
      "{'logisticregression__C': 10.0}\n",
      "The best parameter provides test score: \n",
      "0.9914\n"
     ]
    }
   ],
   "source": [
    "log_reg_pen_pipe = make_pipeline(StandardScaler(), LogisticRegression(penalty='l2'))\n",
    "log_reg_pen_param_grid = {'logisticregression__C': np.logspace(-3,3,10)}\n",
    "log_reg_pen_grid = GridSearchCV(log_reg_pen_pipe, log_reg_pen_param_grid).fit(X_train_scaled_q2, y_train)\n",
    "\n",
    "print(\"The best parameter is: \\n{}\".format(log_reg_pen_grid.best_params_))\n",
    "print(\"The best parameter provides test score: \\n{:.4f}\".format(log_reg_pen_grid.score(X_test_scaled_q2, y_test)))"
   ]
  },
  {
   "cell_type": "markdown",
   "metadata": {
    "id": "OSOK38LpxsNN"
   },
   "source": [
    "Compared to above, did not improve the accuracy (similar)"
   ]
  },
  {
   "cell_type": "markdown",
   "metadata": {
    "id": "P5UuKHoixu-a"
   },
   "source": [
    "KNN Classification"
   ]
  },
  {
   "cell_type": "code",
   "execution_count": 77,
   "metadata": {
    "colab": {
     "base_uri": "https://localhost:8080/"
    },
    "id": "IPNQDiLGx1z8",
    "outputId": "e8a23bd6-a5a1-4b04-f42e-f8a63b6ef11d"
   },
   "outputs": [
    {
     "name": "stdout",
     "output_type": "stream",
     "text": [
      "The best parameter is: \n",
      "{'kneighborsclassifier__n_neighbors': 9}\n",
      "The best parameter provides test score: \n",
      "0.9895\n"
     ]
    }
   ],
   "source": [
    "knn_pipe = make_pipeline(StandardScaler(), KNeighborsClassifier())\n",
    "\n",
    "knn_param_grid = {'kneighborsclassifier__n_neighbors': np.arange(0, 27, 3)}\n",
    "knn_grid = GridSearchCV(knn_pipe, knn_param_grid).fit(X_train_scaled_q2, y_train)\n",
    "\n",
    "print(\"The best parameter is: \\n{}\".format(knn_grid.best_params_))\n",
    "print(\"The best parameter provides test score: \\n{:.4f}\".format(knn_grid.score(X_test_scaled_q2, y_test)))"
   ]
  },
  {
   "cell_type": "markdown",
   "metadata": {
    "id": "2wUxQH-OyL1I"
   },
   "source": [
    "Compared to above, did not improve the accuracy (similar, slightly dropped)."
   ]
  },
  {
   "cell_type": "markdown",
   "metadata": {
    "id": "V8bB6QxJyUHW"
   },
   "source": [
    "# 2.4 Change the cross-validation strategy in GridSearchCV from ‘stratified k-fold’ to ‘kfold’ with shuffling. Do the parameters for models that can be tuned change? Do they change if you change the random seed of the shuffling? Or if you change the random state of the split into training and test data?"
   ]
  },
  {
   "cell_type": "markdown",
   "metadata": {
    "id": "q4T42diEzNH_"
   },
   "source": [
    "Random State is 42"
   ]
  },
  {
   "cell_type": "code",
   "execution_count": 78,
   "metadata": {
    "id": "fJFE4L1Uyedz"
   },
   "outputs": [],
   "source": [
    "rkf = RepeatedKFold(n_splits=10, n_repeats=5, random_state=42)"
   ]
  },
  {
   "cell_type": "markdown",
   "metadata": {
    "id": "wMQmj-TS0s4w"
   },
   "source": [
    "Logistic Regression"
   ]
  },
  {
   "cell_type": "code",
   "execution_count": 79,
   "metadata": {
    "colab": {
     "base_uri": "https://localhost:8080/"
    },
    "id": "fawhYtp50sOi",
    "outputId": "f1d251b5-e622-42be-b679-9747350cf903"
   },
   "outputs": [
    {
     "name": "stdout",
     "output_type": "stream",
     "text": [
      "The best parameter is: \n",
      "{'logisticregression__C': 2.154434690031882}\n",
      "The best parameter provides test score: \n",
      "0.9908\n"
     ]
    }
   ],
   "source": [
    "logreg_pipe = make_pipeline(StandardScaler(), LogisticRegression())\n",
    "logreg_param_grid = {'logisticregression__C': np.logspace(-3, 3, 10)}\n",
    "\n",
    "logreg_grid = GridSearchCV(logreg_pipe, logreg_param_grid, cv = rkf).fit(X_train_scaled_q2, y_train)\n",
    "\n",
    "print(\"The best parameter is: \\n{}\".format(logreg_grid.best_params_))\n",
    "print(\"The best parameter provides test score: \\n{:.4f}\".format(logreg_grid.score(X_test_scaled_q2, y_test)))"
   ]
  },
  {
   "cell_type": "markdown",
   "metadata": {
    "id": "ahKG_hsj1P-U"
   },
   "source": [
    "After shuffling the k-fold, the parameter changed from 10 to 2.154"
   ]
  },
  {
   "cell_type": "markdown",
   "metadata": {
    "id": "xZuWBJX-1idC"
   },
   "source": [
    "Penalized Logistic Regression"
   ]
  },
  {
   "cell_type": "code",
   "execution_count": 80,
   "metadata": {
    "colab": {
     "base_uri": "https://localhost:8080/"
    },
    "id": "PROW3_g_1eCD",
    "outputId": "46310a99-df8b-47cc-8e50-9774f2944970"
   },
   "outputs": [
    {
     "name": "stdout",
     "output_type": "stream",
     "text": [
      "The best parameter is: \n",
      "{'logisticregression__C': 2.154434690031882}\n",
      "The best parameter provides test score: \n",
      "0.9908\n"
     ]
    }
   ],
   "source": [
    "log_pen_reg_pipe = make_pipeline(StandardScaler(), LogisticRegression(penalty='l2'))\n",
    "\n",
    "logreg_param_grid = {'logisticregression__C':np.logspace(-3, 3, 10)}\n",
    "logreg_grid = GridSearchCV(log_pen_reg_pipe, param_grid = logreg_param_grid, cv = rkf)\n",
    "logreg_grid.fit(X_train_scaled_q2, y_train)\n",
    "print(\"The best parameter is: \\n{}\".format(logreg_grid.best_params_))\n",
    "print(\"The best parameter provides test score: \\n{:.4f}\".format(logreg_grid.score(X_test_scaled_q2, y_test)))"
   ]
  },
  {
   "cell_type": "markdown",
   "metadata": {
    "id": "z7X70QSl14cX"
   },
   "source": [
    "After shuffling the k-fold, the parameter changed from 10.0 to 2.15"
   ]
  },
  {
   "cell_type": "code",
   "execution_count": 81,
   "metadata": {
    "colab": {
     "base_uri": "https://localhost:8080/"
    },
    "id": "TL-sjZNL2Hls",
    "outputId": "e566b973-48f0-4ee9-e6e3-1e6de778d64f"
   },
   "outputs": [
    {
     "name": "stdout",
     "output_type": "stream",
     "text": [
      "The best parameter is: \n",
      "{'kneighborsclassifier__n_neighbors': 12}\n",
      "The best parameter provides test score: \n",
      "0.9902\n"
     ]
    }
   ],
   "source": [
    "knn_pipe = make_pipeline(StandardScaler(), KNeighborsClassifier())\n",
    "\n",
    "knn_param_grid = {'kneighborsclassifier__n_neighbors': np.arange(0, 27, 3)}\n",
    "knn_grid = GridSearchCV(knn_pipe, knn_param_grid, cv=rkf).fit(X_train_scaled_q2, y_train)\n",
    "\n",
    "print(\"The best parameter is: \\n{}\".format(knn_grid.best_params_))\n",
    "print(\"The best parameter provides test score: \\n{:.4f}\".format(knn_grid.score(X_test_scaled_q2, y_test)))"
   ]
  },
  {
   "cell_type": "markdown",
   "metadata": {
    "id": "tJAefGe92KqU"
   },
   "source": [
    "After shuffling the k-fold, the parameter changed from 9 to 12"
   ]
  },
  {
   "cell_type": "markdown",
   "metadata": {
    "id": "L7FxDeuD2oeZ"
   },
   "source": [
    "### Change the random state from 42 to 73 (Repeated K-FOLD)"
   ]
  },
  {
   "cell_type": "code",
   "execution_count": 82,
   "metadata": {
    "id": "8wDm9KOx2ulH"
   },
   "outputs": [],
   "source": [
    "rkf_new = RepeatedKFold(n_splits=10, n_repeats=5, random_state=73)"
   ]
  },
  {
   "cell_type": "markdown",
   "metadata": {
    "id": "ApF_bBSz22IL"
   },
   "source": [
    "Logistic Regression"
   ]
  },
  {
   "cell_type": "code",
   "execution_count": 83,
   "metadata": {
    "colab": {
     "base_uri": "https://localhost:8080/"
    },
    "id": "b8TgaY3T23gu",
    "outputId": "4c1becf5-fe0a-4f42-9d7b-a0a48d0f3577"
   },
   "outputs": [
    {
     "name": "stdout",
     "output_type": "stream",
     "text": [
      "The best parameter is: \n",
      "{'logisticregression__C': 215.44346900318823}\n",
      "The best parameter provides test score: \n",
      "0.9914\n"
     ]
    }
   ],
   "source": [
    "logreg_pipe = make_pipeline(StandardScaler(), LogisticRegression())\n",
    "logreg_param_grid = {'logisticregression__C': np.logspace(-3, 3, 10)}\n",
    "\n",
    "logreg_grid = GridSearchCV(logreg_pipe, logreg_param_grid, cv = rkf_new).fit(X_train_scaled_q2, y_train)\n",
    "\n",
    "print(\"The best parameter is: \\n{}\".format(logreg_grid.best_params_))\n",
    "print(\"The best parameter provides test score: \\n{:.4f}\".format(logreg_grid.score(X_test_scaled_q2, y_test)))"
   ]
  },
  {
   "cell_type": "markdown",
   "metadata": {
    "id": "5z-64m2E3k-e"
   },
   "source": [
    "After changed the random state, the parameter changed from 2.15 to 215.44"
   ]
  },
  {
   "cell_type": "markdown",
   "metadata": {
    "id": "PHmoDRe825mI"
   },
   "source": [
    "Penalized Logistc Regression"
   ]
  },
  {
   "cell_type": "code",
   "execution_count": 84,
   "metadata": {
    "colab": {
     "base_uri": "https://localhost:8080/"
    },
    "id": "pF7qs4Y127_5",
    "outputId": "2d36d6b8-c696-4737-b542-9f2d51e311ba"
   },
   "outputs": [
    {
     "name": "stdout",
     "output_type": "stream",
     "text": [
      "The best parameter is: \n",
      "{'logisticregression__C': 215.44346900318823}\n",
      "The best parameter provides test score: \n",
      "0.9914\n"
     ]
    }
   ],
   "source": [
    "# Solvers = ['liblinear']\n",
    "# Penalty = ['l1', 'l2']\n",
    "\n",
    "log_pen_reg_pipe = make_pipeline(StandardScaler(), LogisticRegression(penalty='l2'))\n",
    "\n",
    "#logreg_param_grid = dict(solver=solvers,penalty=penalty, C=np.logspace(-3, 3, 10))\n",
    "logreg_grid = GridSearchCV(log_pen_reg_pipe, param_grid = logreg_param_grid, cv = rkf_new)\n",
    "logreg_grid.fit(X_train_scaled_q2, y_train)\n",
    "print(\"The best parameter is: \\n{}\".format(logreg_grid.best_params_))\n",
    "print(\"The best parameter provides test score: \\n{:.4f}\".format(logreg_grid.score(X_test_scaled_q2, y_test)))"
   ]
  },
  {
   "cell_type": "markdown",
   "metadata": {
    "id": "13dyn-qt3XRl"
   },
   "source": [
    "After changed the random state, the parameter changed from 2.15 to 215.44"
   ]
  },
  {
   "cell_type": "markdown",
   "metadata": {
    "id": "OdNKAwio39Ws"
   },
   "source": [
    "KNN Classification"
   ]
  },
  {
   "cell_type": "code",
   "execution_count": 85,
   "metadata": {
    "colab": {
     "base_uri": "https://localhost:8080/"
    },
    "id": "OGF8bgF14AjR",
    "outputId": "fe909483-2319-4c2c-88b9-9c7690471cb3"
   },
   "outputs": [
    {
     "name": "stdout",
     "output_type": "stream",
     "text": [
      "The best parameter is: \n",
      "{'kneighborsclassifier__n_neighbors': 12}\n",
      "The best parameter provides test score: \n",
      "0.9902\n"
     ]
    }
   ],
   "source": [
    "knn_pipe = make_pipeline(StandardScaler(), KNeighborsClassifier())\n",
    "\n",
    "knn_param_grid = {'kneighborsclassifier__n_neighbors': np.arange(0, 27, 3)}\n",
    "knn_grid = GridSearchCV(knn_pipe, knn_param_grid, cv=rkf_new).fit(X_train_scaled_q2, y_train)\n",
    "\n",
    "print(\"The best parameter is: \\n{}\".format(knn_grid.best_params_))\n",
    "print(\"The best parameter provides test score: \\n{:.4f}\".format(knn_grid.score(X_test_scaled_q2, y_test)))"
   ]
  },
  {
   "cell_type": "markdown",
   "metadata": {
    "id": "GDTRmfx54ETa"
   },
   "source": [
    "After changed the random state, the parameter did not change (still 12)"
   ]
  },
  {
   "cell_type": "markdown",
   "metadata": {
    "id": "ZJ_HonNh4Svm"
   },
   "source": [
    "### change the random state of the split into training and test data"
   ]
  },
  {
   "cell_type": "code",
   "execution_count": 86,
   "metadata": {
    "id": "Ow0bG33J4Y4B"
   },
   "outputs": [],
   "source": [
    "# Split data in training and test set\n",
    "X_train1, X_test1, y_train1, y_test1 = train_test_split(X, y, random_state=73) \n"
   ]
  },
  {
   "cell_type": "code",
   "execution_count": 87,
   "metadata": {
    "id": "jtBSc-Uo4lpR"
   },
   "outputs": [],
   "source": [
    "# Standardize\n",
    "scaler = StandardScaler().fit(X_train1)\n",
    "X_train_scaled2 = scaler.transform(X_train1)   \n",
    "X_test_scaled2 = scaler.transform(X_test1)   "
   ]
  },
  {
   "cell_type": "markdown",
   "metadata": {
    "id": "2NHCJGl85xT4"
   },
   "source": [
    "Logistic Regression changed random state (train-split):"
   ]
  },
  {
   "cell_type": "code",
   "execution_count": 88,
   "metadata": {
    "colab": {
     "base_uri": "https://localhost:8080/"
    },
    "id": "RppGXPnH4xrc",
    "outputId": "9260939a-0048-45a3-c426-5ef3ae12a1fb"
   },
   "outputs": [
    {
     "name": "stdout",
     "output_type": "stream",
     "text": [
      "The best parameter is: \n",
      "{'logisticregression__C': 46.41588833612773}\n",
      "The best parameter provides test score: \n",
      "0.9914\n"
     ]
    }
   ],
   "source": [
    "logreg_pipe = make_pipeline(StandardScaler(), LogisticRegression())\n",
    "logreg_param_grid = {'logisticregression__C': np.logspace(-3, 3, 10)}\n",
    "\n",
    "logreg_grid = GridSearchCV(logreg_pipe, logreg_param_grid, cv = rkf_new).fit(X_train_scaled2, y_train1)\n",
    "\n",
    "print(\"The best parameter is: \\n{}\".format(logreg_grid.best_params_))\n",
    "print(\"The best parameter provides test score: \\n{:.4f}\".format(logreg_grid.score(X_test_scaled2, y_test1)))"
   ]
  },
  {
   "cell_type": "markdown",
   "metadata": {
    "id": "Dtf3hI2I50hO"
   },
   "source": [
    "The parameter changed from 215.44 to 46.41"
   ]
  },
  {
   "cell_type": "markdown",
   "metadata": {
    "id": "tCUEBwTi6ByY"
   },
   "source": [
    "Penalized Logistic Regression changed random state (train-split):"
   ]
  },
  {
   "cell_type": "code",
   "execution_count": 89,
   "metadata": {
    "colab": {
     "base_uri": "https://localhost:8080/"
    },
    "id": "31UHMGfs6HRg",
    "outputId": "3380cb2b-98b7-47f6-e66e-c44975feb114"
   },
   "outputs": [
    {
     "name": "stdout",
     "output_type": "stream",
     "text": [
      "The best parameter is: \n",
      "{'logisticregression__C': 46.41588833612773}\n",
      "The best parameter provides test score: \n",
      "0.9914\n"
     ]
    }
   ],
   "source": [
    "# Solvers = ['liblinear']\n",
    "# Penalty = ['l1', 'l2']\n",
    "# Logreg_param_grid = dict(solver=solvers,penalty=penalty, C=np.logspace(-3, 3, 10))\n",
    "\n",
    "log_pen_reg_pipe = make_pipeline(StandardScaler(), LogisticRegression(penalty='l2'))\n",
    "logreg_grid = GridSearchCV(log_pen_reg_pipe, param_grid = logreg_param_grid, cv = rkf_new)\n",
    "logreg_grid.fit(X_train_scaled2, y_train1)\n",
    "print(\"The best parameter is: \\n{}\".format(logreg_grid.best_params_))\n",
    "print(\"The best parameter provides test score: \\n{:.4f}\".format(logreg_grid.score(X_test_scaled2, y_test1)))"
   ]
  },
  {
   "cell_type": "markdown",
   "metadata": {
    "id": "7dgAoIap6jyP"
   },
   "source": [
    "The parameter changed from 215.44 to 46.41"
   ]
  },
  {
   "cell_type": "markdown",
   "metadata": {
    "id": "b5HdlgK363eF"
   },
   "source": [
    "KNN Classification changed random state (train-split):"
   ]
  },
  {
   "cell_type": "code",
   "execution_count": 90,
   "metadata": {
    "colab": {
     "base_uri": "https://localhost:8080/"
    },
    "id": "v_BWZSxh69Tt",
    "outputId": "f796d748-a608-47c1-cdef-d160dc0306ef"
   },
   "outputs": [
    {
     "name": "stdout",
     "output_type": "stream",
     "text": [
      "The best parameter is: \n",
      "{'kneighborsclassifier__n_neighbors': 3}\n",
      "The best parameter provides test score: \n",
      "0.9895\n"
     ]
    }
   ],
   "source": [
    "knn_pipe = make_pipeline(StandardScaler(), KNeighborsClassifier())\n",
    "\n",
    "knn_param_grid = {'kneighborsclassifier__n_neighbors': np.arange(0, 27, 3)}\n",
    "knn_grid = GridSearchCV(knn_pipe, knn_param_grid, cv=rkf_new).fit(X_train_scaled2, y_train1)\n",
    "\n",
    "print(\"The best parameter is: \\n{}\".format(knn_grid.best_params_))\n",
    "print(\"The best parameter provides test score: \\n{:.4f}\".format(knn_grid.score(X_test_scaled2, y_test1)))"
   ]
  },
  {
   "cell_type": "markdown",
   "metadata": {
    "id": "ZfDvaejn68k9"
   },
   "source": [
    "The parameter changed from 12 to 3"
   ]
  },
  {
   "cell_type": "markdown",
   "metadata": {
    "id": "pJjNlfpb7VfG"
   },
   "source": [
    "### 2.5 Lastly, compare the coefficients for Logistic Regression and Penalized Logistic Regression and discuss which final model you would choose to predict new data."
   ]
  },
  {
   "cell_type": "markdown",
   "metadata": {
    "id": "RLeVX7roBqXd"
   },
   "source": [
    "Below are the coefficients from two models (Logistic Regression and Penalized Logistic Regression, after standardized the dataset):"
   ]
  },
  {
   "cell_type": "code",
   "execution_count": 91,
   "metadata": {
    "colab": {
     "base_uri": "https://localhost:8080/",
     "height": 199
    },
    "id": "pXEPV0NmCYBi",
    "outputId": "abda486c-827c-469b-f307-15f01cb8c147"
   },
   "outputs": [
    {
     "data": {
      "text/html": [
       "<div>\n",
       "<style scoped>\n",
       "    .dataframe tbody tr th:only-of-type {\n",
       "        vertical-align: middle;\n",
       "    }\n",
       "\n",
       "    .dataframe tbody tr th {\n",
       "        vertical-align: top;\n",
       "    }\n",
       "\n",
       "    .dataframe thead th {\n",
       "        text-align: right;\n",
       "    }\n",
       "</style>\n",
       "<table border=\"1\" class=\"dataframe\">\n",
       "  <thead>\n",
       "    <tr style=\"text-align: right;\">\n",
       "      <th></th>\n",
       "      <th>fixed acidity</th>\n",
       "      <th>volatile acidity</th>\n",
       "      <th>citric acid</th>\n",
       "      <th>residual sugar</th>\n",
       "      <th>chlorides</th>\n",
       "      <th>free sulfur dioxide</th>\n",
       "      <th>total sulfur dioxide</th>\n",
       "      <th>density</th>\n",
       "      <th>pH</th>\n",
       "      <th>sulphates</th>\n",
       "      <th>alcohol</th>\n",
       "      <th>quality</th>\n",
       "    </tr>\n",
       "  </thead>\n",
       "  <tbody>\n",
       "    <tr>\n",
       "      <th>Logistic Regression</th>\n",
       "      <td>0.235936</td>\n",
       "      <td>1.589745</td>\n",
       "      <td>-0.286582</td>\n",
       "      <td>-4.938087</td>\n",
       "      <td>0.792480</td>\n",
       "      <td>1.298408</td>\n",
       "      <td>-3.181798</td>\n",
       "      <td>4.532073</td>\n",
       "      <td>0.020461</td>\n",
       "      <td>0.628392</td>\n",
       "      <td>1.512308</td>\n",
       "      <td>0.346559</td>\n",
       "    </tr>\n",
       "    <tr>\n",
       "      <th>Penalized Logistic Regression</th>\n",
       "      <td>0.379950</td>\n",
       "      <td>1.555767</td>\n",
       "      <td>-0.286511</td>\n",
       "      <td>-4.293780</td>\n",
       "      <td>0.807773</td>\n",
       "      <td>1.165076</td>\n",
       "      <td>-3.047916</td>\n",
       "      <td>3.992577</td>\n",
       "      <td>0.153074</td>\n",
       "      <td>0.653129</td>\n",
       "      <td>1.274955</td>\n",
       "      <td>0.321170</td>\n",
       "    </tr>\n",
       "  </tbody>\n",
       "</table>\n",
       "</div>"
      ],
      "text/plain": [
       "                               fixed acidity  volatile acidity  citric acid  \\\n",
       "Logistic Regression                 0.235936          1.589745    -0.286582   \n",
       "Penalized Logistic Regression       0.379950          1.555767    -0.286511   \n",
       "\n",
       "                               residual sugar  chlorides  free sulfur dioxide  \\\n",
       "Logistic Regression                 -4.938087   0.792480             1.298408   \n",
       "Penalized Logistic Regression       -4.293780   0.807773             1.165076   \n",
       "\n",
       "                               total sulfur dioxide   density        pH  \\\n",
       "Logistic Regression                       -3.181798  4.532073  0.020461   \n",
       "Penalized Logistic Regression             -3.047916  3.992577  0.153074   \n",
       "\n",
       "                               sulphates   alcohol   quality  \n",
       "Logistic Regression             0.628392  1.512308  0.346559  \n",
       "Penalized Logistic Regression   0.653129  1.274955  0.321170  "
      ]
     },
     "execution_count": 91,
     "metadata": {},
     "output_type": "execute_result"
    }
   ],
   "source": [
    "coef_df_logistic = pd.DataFrame(data = logreg .coef_, columns = X_train.columns, index = ['Logistic Regression'])\n",
    "coef_df_logistic_pen = pd.DataFrame(data = logreg_pen .coef_, columns = X_train.columns, index = ['Penalized Logistic Regression'])\n",
    "\n",
    "pd.concat([coef_df_logistic, coef_df_logistic_pen], axis=0)\n"
   ]
  },
  {
   "cell_type": "markdown",
   "metadata": {
    "id": "j5thYqoaEiIi"
   },
   "source": [
    "#### Answer:\n",
    "1. The two models (Logistic Regression and Penalized Logistic Regression with L2 penalty) were trained by standardized data (with default cross-validation). The penalized model has test-score: 99.1%, and 99.4% k-fold). The logistic regression has similar test-score: 99.1% and 99.4%. We cannot tell which model is better from the accuracy score.\n",
    " \n",
    "2.1 The penalized logistic regression put shrink on the features' coefficients. By looking at the coefficients of penalized logistic regression, we can see the **volatile acidity**, **chlorides** and **sulphates** are having strong positive association with wine type, and **density** as a strong negative relationship with wine type.\n",
    "\n",
    "For example, the coefficients of **volatile acidity** is much higher in the penalized logistic regression than the logistic regression.\n",
    " \n",
    "2.2 The coefficients of logistic regression have less variation than the coefficients of the penalized logistic regression. This is coherent with the \"shrink\" effect of penalized logistic regression.\n",
    " \n",
    "2.3 After comparing the coefficients, penalized logistic regression could better highlight the important features. In conclusion, based on the current data, penalized logistic regression is the better choice.\n",
    " \n",
    " \n",
    " \n",
    " \n",
    " \n",
    " \n",
    " \n",
    " \n",
    "\n"
   ]
  }
 ],
 "metadata": {
  "colab": {
   "collapsed_sections": [],
   "name": "ML-HW2",
   "provenance": []
  },
  "kernelspec": {
   "display_name": "Python 3",
   "language": "python",
   "name": "python3"
  },
  "language_info": {
   "codemirror_mode": {
    "name": "ipython",
    "version": 3
   },
   "file_extension": ".py",
   "mimetype": "text/x-python",
   "name": "python",
   "nbconvert_exporter": "python",
   "pygments_lexer": "ipython3",
   "version": "3.9.7"
  }
 },
 "nbformat": 4,
 "nbformat_minor": 1
}
